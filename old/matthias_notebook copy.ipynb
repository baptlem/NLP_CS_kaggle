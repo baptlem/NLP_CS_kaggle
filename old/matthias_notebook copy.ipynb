{
 "cells": [
  {
   "cell_type": "code",
   "execution_count": 1,
   "metadata": {},
   "outputs": [
    {
     "name": "stderr",
     "output_type": "stream",
     "text": [
      "c:\\Users\\matth\\AppData\\Local\\Programs\\Python\\Python311\\Lib\\site-packages\\transformers\\utils\\generic.py:441: UserWarning: torch.utils._pytree._register_pytree_node is deprecated. Please use torch.utils._pytree.register_pytree_node instead.\n",
      "  _torch_pytree._register_pytree_node(\n",
      "[nltk_data] Downloading package punkt to\n",
      "[nltk_data]     C:\\Users\\matth\\AppData\\Roaming\\nltk_data...\n",
      "[nltk_data]   Package punkt is already up-to-date!\n",
      "[nltk_data] Downloading package averaged_perceptron_tagger to\n",
      "[nltk_data]     C:\\Users\\matth\\AppData\\Roaming\\nltk_data...\n",
      "[nltk_data]   Package averaged_perceptron_tagger is already up-to-\n",
      "[nltk_data]       date!\n",
      "[nltk_data] Downloading package maxent_ne_chunker to\n",
      "[nltk_data]     C:\\Users\\matth\\AppData\\Roaming\\nltk_data...\n",
      "[nltk_data]   Package maxent_ne_chunker is already up-to-date!\n",
      "[nltk_data] Downloading package words to\n",
      "[nltk_data]     C:\\Users\\matth\\AppData\\Roaming\\nltk_data...\n",
      "[nltk_data]   Package words is already up-to-date!\n",
      "[nltk_data] Downloading package wordnet to\n",
      "[nltk_data]     C:\\Users\\matth\\AppData\\Roaming\\nltk_data...\n",
      "[nltk_data]   Package wordnet is already up-to-date!\n",
      "[nltk_data] Downloading package stopwords to\n",
      "[nltk_data]     C:\\Users\\matth\\AppData\\Roaming\\nltk_data...\n",
      "[nltk_data]   Package stopwords is already up-to-date!\n"
     ]
    },
    {
     "data": {
      "text/plain": [
       "True"
      ]
     },
     "execution_count": 1,
     "metadata": {},
     "output_type": "execute_result"
    }
   ],
   "source": [
    "\n",
    "from sklearn.feature_extraction.text import TfidfVectorizer\n",
    "from sklearn.metrics import classification_report, confusion_matrix\n",
    "from sklearn.metrics.pairwise import cosine_similarity\n",
    "import matplotlib.pyplot as plt\n",
    "import seaborn as sn\n",
    "import numpy as np\n",
    "import pandas as pd\n",
    "import nltk\n",
    "from nltk.tokenize import word_tokenize\n",
    "from nltk.stem import WordNetLemmatizer\n",
    "from gensim.models.phrases import Phrases, Phraser, ENGLISH_CONNECTOR_WORDS\n",
    "from nltk.corpus import stopwords\n",
    "from sklearn.svm import SVC\n",
    "from sklearn.pipeline import Pipeline\n",
    "from sklearn.preprocessing import FunctionTransformer\n",
    "from sklearn.linear_model import SGDClassifier\n",
    "from sklearn.feature_extraction.text import CountVectorizer\n",
    "from sklearn.feature_extraction.text import TfidfTransformer\n",
    "from sklearn.ensemble import RandomForestClassifier\n",
    "from sklearn.linear_model import LogisticRegression, SGDClassifier,RidgeClassifier\n",
    "from sklearn.naive_bayes import ComplementNB\n",
    "from sklearn.neighbors import KNeighborsClassifier, NearestCentroid\n",
    "from sklearn.svm import LinearSVC\n",
    "from tqdm import tqdm\n",
    "import warnings\n",
    "import csv\n",
    "from xgboost import XGBClassifier\n",
    "from sentence_transformers import SentenceTransformer\n",
    "from sklearn.neighbors import NearestCentroid\n",
    "from termcolor import colored\n",
    "\n",
    "\n",
    "\n",
    "nltk.download('punkt')\n",
    "nltk.download('averaged_perceptron_tagger')\n",
    "nltk.download('maxent_ne_chunker')\n",
    "nltk.download('words')\n",
    "nltk.download('wordnet')\n",
    "nltk.download('stopwords')\n"
   ]
  },
  {
   "cell_type": "code",
   "execution_count": 2,
   "metadata": {},
   "outputs": [],
   "source": [
    "embedding = 'sentence-transformers/all-MiniLM-L6-v2'\n",
    "\n",
    "# 'BAAI/bge-large-en-v1.5'\n",
    "# other embeddings: 'sentence-transformers/all-mpnet-base-v2'\n",
    "# 'sentence-transformers/all-MiniLM-L6-v2'\n",
    "# 'sentence-transformers/all-MiniLM-L12-v2'"
   ]
  },
  {
   "cell_type": "code",
   "execution_count": 356,
   "metadata": {},
   "outputs": [],
   "source": [
    "# knn 25\n",
    "\n",
    "# 'sentence-transformers/all-MiniLM-L6-v2'\n",
    "\n",
    "# train_set_3103 0.28 0.40 0.67 0.54 | le 4 se fait méchamment confondre avec le 1 dans l'embedding\n",
    "# train_set_0104 0.34 0.27 0.65 0.51 | 0 et 1 encore (un peu 2 et 5 aussi)\n",
    "# train_set_0104_30 0.29 0.33 0.62 0.53\n",
    "# backtrans_train_set 0.30 0.30 0.67 0.54\n",
    "# backtrans_train_set_30 0.40 0.36 0.66 0.54 | 0 et 1 c'est pas ouf\n",
    "\n",
    "\n",
    "# 'sentence-transformers/all-mpnet-base-v2'\n",
    "\n",
    "# backtrans_train_set_30 _ _ 0.65 _ | 0 et 1 c'est pas ouf\n",
    "\n",
    "\n",
    "# some reflexion need to be made on the data augmentation techniques, and how to improve data quality\n",
    "# we can also try to change the embedding model"
   ]
  },
  {
   "cell_type": "code",
   "execution_count": 8,
   "metadata": {},
   "outputs": [
    {
     "name": "stdout",
     "output_type": "stream",
     "text": [
      "(5283, 2) (200, 2)\n"
     ]
    },
    {
     "data": {
      "text/html": [
       "<div>\n",
       "<style scoped>\n",
       "    .dataframe tbody tr th:only-of-type {\n",
       "        vertical-align: middle;\n",
       "    }\n",
       "\n",
       "    .dataframe tbody tr th {\n",
       "        vertical-align: top;\n",
       "    }\n",
       "\n",
       "    .dataframe thead th {\n",
       "        text-align: right;\n",
       "    }\n",
       "</style>\n",
       "<table border=\"1\" class=\"dataframe\">\n",
       "  <thead>\n",
       "    <tr style=\"text-align: right;\">\n",
       "      <th></th>\n",
       "      <th>labels</th>\n",
       "      <th>sentences</th>\n",
       "    </tr>\n",
       "  </thead>\n",
       "  <tbody>\n",
       "    <tr>\n",
       "      <th>0</th>\n",
       "      <td>8</td>\n",
       "      <td>Telescopes peer back in time, revealing the un...</td>\n",
       "    </tr>\n",
       "    <tr>\n",
       "      <th>1</th>\n",
       "      <td>8</td>\n",
       "      <td>Quantum mechanics challenges our understanding...</td>\n",
       "    </tr>\n",
       "    <tr>\n",
       "      <th>2</th>\n",
       "      <td>8</td>\n",
       "      <td>Studying fossils unlocks the secrets of ancien...</td>\n",
       "    </tr>\n",
       "    <tr>\n",
       "      <th>3</th>\n",
       "      <td>8</td>\n",
       "      <td>Particle accelerators recreate the Big Bang's ...</td>\n",
       "    </tr>\n",
       "    <tr>\n",
       "      <th>4</th>\n",
       "      <td>8</td>\n",
       "      <td>Microbiology reveals invisible worlds teeming ...</td>\n",
       "    </tr>\n",
       "  </tbody>\n",
       "</table>\n",
       "</div>"
      ],
      "text/plain": [
       "   labels                                          sentences\n",
       "0       8  Telescopes peer back in time, revealing the un...\n",
       "1       8  Quantum mechanics challenges our understanding...\n",
       "2       8  Studying fossils unlocks the secrets of ancien...\n",
       "3       8  Particle accelerators recreate the Big Bang's ...\n",
       "4       8  Microbiology reveals invisible worlds teeming ..."
      ]
     },
     "execution_count": 8,
     "metadata": {},
     "output_type": "execute_result"
    }
   ],
   "source": [
    "df_train_plus = pd.read_csv(\"data/dataset_de_mort_and_food_custom.txt\",names=['labels','sentences'],sep='\\t')\n",
    "df_train_plus['sentences'] = df_train_plus['sentences'].astype(\"str\")\n",
    "df_train_plus = df_train_plus[df_train_plus['sentences'].apply(lambda x: len(x.split()) >= 4)]\n",
    "df_train_plus = df_train_plus.drop_duplicates(subset='sentences').reset_index(drop=True)\n",
    "df_test = pd.read_csv(\"data/annotated_test.txt\", sep=';',names=['labels','sentences'])\n",
    "print(df_train_plus.shape,df_test.shape)\n",
    "df_train_plus.head()"
   ]
  },
  {
   "cell_type": "code",
   "execution_count": 9,
   "metadata": {},
   "outputs": [
    {
     "data": {
      "text/plain": [
       "labels\n",
       "6     32\n",
       "7     19\n",
       "1     19\n",
       "2     18\n",
       "9     17\n",
       "4     16\n",
       "5     16\n",
       "11    15\n",
       "10    14\n",
       "8     13\n",
       "0     11\n",
       "3     10\n",
       "Name: count, dtype: int64"
      ]
     },
     "execution_count": 9,
     "metadata": {},
     "output_type": "execute_result"
    }
   ],
   "source": [
    "df_test.labels.value_counts()"
   ]
  },
  {
   "cell_type": "markdown",
   "metadata": {},
   "source": [
    "### Bordel"
   ]
  },
  {
   "cell_type": "code",
   "execution_count": 10,
   "metadata": {},
   "outputs": [],
   "source": [
    "test_final = pd.read_csv(\"data/test_shuffle.txt\",sep=\"\\t\",names=['sentences'])"
   ]
  },
  {
   "cell_type": "code",
   "execution_count": null,
   "metadata": {},
   "outputs": [
    {
     "data": {
      "text/plain": [
       "array([[0.09003057, 0.24472847, 0.66524096],\n",
       "       [0.09003057, 0.24472847, 0.66524096]])"
      ]
     },
     "execution_count": 5,
     "metadata": {},
     "output_type": "execute_result"
    }
   ],
   "source": [
    "import numpy as np\n",
    "numbers = [[1, 2, 3,4, 5, 6], [7, 8, 9, 10, 11, 12]]\n",
    "predicted_probas = np.mean(numbers, axis=0)\n",
    "np.exp(predicted_probas) / np.sum(np.exp(predicted_probas), axis=1, keepdims=True)\n"
   ]
  },
  {
   "cell_type": "code",
   "execution_count": 4,
   "metadata": {},
   "outputs": [
    {
     "data": {
      "text/plain": [
       "array([[4., 5., 6.],\n",
       "       [7., 8., 9.]])"
      ]
     },
     "execution_count": 4,
     "metadata": {},
     "output_type": "execute_result"
    }
   ],
   "source": [
    "predicted_probas"
   ]
  },
  {
   "cell_type": "code",
   "execution_count": 18,
   "metadata": {},
   "outputs": [
    {
     "data": {
      "text/plain": [
       "6"
      ]
     },
     "execution_count": 18,
     "metadata": {},
     "output_type": "execute_result"
    }
   ],
   "source": [
    "min(test_final.sentences.str.split().apply(len))"
   ]
  },
  {
   "cell_type": "code",
   "execution_count": 5,
   "metadata": {},
   "outputs": [
    {
     "ename": "NameError",
     "evalue": "name 'test_final' is not defined",
     "output_type": "error",
     "traceback": [
      "\u001b[1;31m---------------------------------------------------------------------------\u001b[0m",
      "\u001b[1;31mNameError\u001b[0m                                 Traceback (most recent call last)",
      "Cell \u001b[1;32mIn[5], line 18\u001b[0m\n\u001b[0;32m     15\u001b[0m     \u001b[38;5;28;01mreturn\u001b[39;00m result\n\u001b[0;32m     17\u001b[0m model_name \u001b[38;5;241m=\u001b[39m \u001b[38;5;124m'\u001b[39m\u001b[38;5;124msentence-transformers/all-MiniLM-L6-v2\u001b[39m\u001b[38;5;124m'\u001b[39m\n\u001b[1;32m---> 18\u001b[0m results \u001b[38;5;241m=\u001b[39m llm_embedding_centroid(model_name, df_train_plus, \u001b[43mtest_final\u001b[49m)\n",
      "\u001b[1;31mNameError\u001b[0m: name 'test_final' is not defined"
     ]
    }
   ],
   "source": [
    "from sentence_transformers import SentenceTransformer\n",
    "from sklearn.neighbors import NearestCentroid\n",
    "\n",
    "\n",
    "def llm_embedding_centroid(model_name, df_train, df_test):\n",
    "    model = SentenceTransformer(model_name)\n",
    "    embeddings_test = model.encode(list(df_test[\"sentences\"]))\n",
    "    embeddings_train = model.encode(list(df_train['sentences']))\n",
    "\n",
    "    clf = NearestCentroid()\n",
    "    clf.fit(embeddings_train, df_train['labels'])\n",
    "\n",
    "    result = clf.predict(embeddings_test)\n",
    "\n",
    "    return result\n",
    "\n",
    "model_name = 'sentence-transformers/all-MiniLM-L6-v2'\n",
    "results = llm_embedding_centroid(model_name, df_train_plus, test_final)"
   ]
  },
  {
   "cell_type": "code",
   "execution_count": 58,
   "metadata": {},
   "outputs": [],
   "source": [
    "from sentence_transformers import SentenceTransformer\n",
    "from sklearn.neighbors import NearestCentroid\n",
    "\n",
    "model_name = 'sentence-transformers/all-MiniLM-L6-v2'\n",
    "model = SentenceTransformer(model_name)\n",
    "# print(df_test)\n",
    "embeddings_test = model.encode(list(df_test[\"sentences\"]))\n",
    "embeddings_train = model.encode(list(df_train_plus['sentences']))\n",
    "\n",
    "clf = NearestCentroid()\n",
    "clf.fit(embeddings_train, df_train_plus['labels'])\n",
    "\n",
    "result = clf.predict(embeddings_test)"
   ]
  },
  {
   "cell_type": "code",
   "execution_count": 60,
   "metadata": {},
   "outputs": [],
   "source": [
    "df = pd.DataFrame({\"predictions\":result,\"labels\":list(df_test['labels']),'sentence':list(df_test['sentences'])})\n",
    "for elem in df[(df[\"labels\"]==4) & (df[\"predictions\"] == 1)]['sentence']:\n",
    "    print(elem)\n"
   ]
  },
  {
   "cell_type": "code",
   "execution_count": 23,
   "metadata": {},
   "outputs": [
    {
     "name": "stderr",
     "output_type": "stream",
     "text": [
      "  0%|          | 0/3 [00:00<?, ?it/s]"
     ]
    },
    {
     "name": "stderr",
     "output_type": "stream",
     "text": [
      "100%|██████████| 3/3 [02:39<00:00, 53.16s/it]\n"
     ]
    }
   ],
   "source": [
    "def finetuned_llm(model_name_llm,model_name_classifier, df_train, df_test):\n",
    "    model_llm = SentenceTransformer(model_name_llm)\n",
    "    embeddings_test = model_llm.encode(list(df_test[\"sentences\"]))\n",
    "    embedding_train = model_llm.encode(list(df_train['sentences']))\n",
    "    # print(embedding_train.shape)\n",
    "    model_name_classifier.fit(embedding_train,df_train['labels'])\n",
    "    predicted_label = model_name_classifier.predict(embeddings_test)\n",
    "    return predicted_label\n",
    "\n",
    "weights =  {6:95/149,1:95/119,5:95/111,0:95/118,7: 95/97,9: 95/97,10:95/90,2: 95/86,11:95/85,3: 95/72,8: 95/57,4: 95/59}\n",
    "model_name_classifier = [\n",
    "                        # XGBClassifier(use_label_encoder=False, eval_metric='mlogloss',n_estimators=20,min_child_weight=2),\n",
    "                        # RandomForestClassifier(n_estimators=100, random_state=42),\n",
    "                        SGDClassifier(loss='hinge', penalty='l2',alpha=0.005, random_state=42,class_weight=weights),\n",
    "                        RidgeClassifier(alpha=10.0, solver=\"sparse_cg\",class_weight=weights)\n",
    "                        ,LinearSVC(C=0.1, dual=False,class_weight=weights)\n",
    "                        ] \n",
    "    #\"mixedbread-ai/mxbai-embed-large-v1\" 26 minutes outch                               \n",
    "for model_name_classifier in tqdm(model_name_classifier):\n",
    "        # pass\n",
    "    predicted = finetuned_llm('sentence-transformers/all-MiniLM-L6-v2',model_name_classifier,df_train_plus,df_test)\n",
    "\n",
    "    # save_prediction(liste_of_preds_llm_finetuned,\"mixedbread_xgboost\")\n",
    "    # liste_of_preds_llm_finetuned = load_prediction(\"mixedbread_xgboost\")\n"
   ]
  },
  {
   "cell_type": "code",
   "execution_count": 24,
   "metadata": {},
   "outputs": [
    {
     "name": "stdout",
     "output_type": "stream",
     "text": [
      "The impact of climate change on human health is a topic of ongoing scientific research.\n",
      "The impact of air pollution on human health is a topic of ongoing scientific research.\n",
      "The biotech startup is developing groundbreaking therapies for cancer treatment.\n",
      "The link between air pollution and respiratory diseases is well established.\n",
      "The impact of antibiotic resistance on public health is a topic of ongoing scientific research.\n"
     ]
    }
   ],
   "source": [
    "df = pd.DataFrame({\"predictions\":predicted,\"labels\":list(df_test['labels']),'sentence':list(df_test['sentences'])})\n",
    "for elem in df[(df[\"labels\"]==1) & (df[\"predictions\"] == 8)]['sentence']:\n",
    "    print(elem)"
   ]
  },
  {
   "cell_type": "code",
   "execution_count": 5,
   "metadata": {},
   "outputs": [
    {
     "ename": "NameError",
     "evalue": "name 'results' is not defined",
     "output_type": "error",
     "traceback": [
      "\u001b[1;31m---------------------------------------------------------------------------\u001b[0m",
      "\u001b[1;31mNameError\u001b[0m                                 Traceback (most recent call last)",
      "Cell \u001b[1;32mIn[5], line 12\u001b[0m\n\u001b[0;32m     10\u001b[0m writer \u001b[38;5;241m=\u001b[39m csv\u001b[38;5;241m.\u001b[39mwriter(csvfile, delimiter\u001b[38;5;241m=\u001b[39m\u001b[38;5;124m'\u001b[39m\u001b[38;5;124m;\u001b[39m\u001b[38;5;124m'\u001b[39m)  \u001b[38;5;66;03m# Set the delimiter to ';'\u001b[39;00m\n\u001b[0;32m     11\u001b[0m writer\u001b[38;5;241m.\u001b[39mwriterow([\u001b[38;5;124m\"\u001b[39m\u001b[38;5;124mID\u001b[39m\u001b[38;5;124m\"\u001b[39m, \u001b[38;5;124m\"\u001b[39m\u001b[38;5;124mLabel\u001b[39m\u001b[38;5;124m\"\u001b[39m])  \u001b[38;5;66;03m# Write the column names\u001b[39;00m\n\u001b[1;32m---> 12\u001b[0m \u001b[38;5;28;01mfor\u001b[39;00m i, item \u001b[38;5;129;01min\u001b[39;00m \u001b[38;5;28menumerate\u001b[39m(\u001b[43mresults\u001b[49m):\n\u001b[0;32m     13\u001b[0m     writer\u001b[38;5;241m.\u001b[39mwriterow([i, item])  \u001b[38;5;66;03m# Write each item in results as a row with its line number\u001b[39;00m\n",
      "\u001b[1;31mNameError\u001b[0m: name 'results' is not defined"
     ]
    }
   ],
   "source": [
    "import csv\n",
    "import pandas as pd\n",
    "# np.mean(results==df_test['labels'])\n",
    "result_list = [...]  # Your result list\n",
    "\n",
    "filename = \"result.csv\"\n",
    "\n",
    "# Print the updated DataFrame\n",
    "with open(filename, \"w\", newline=\"\") as csvfile:\n",
    "    writer = csv.writer(csvfile, delimiter=';')  # Set the delimiter to ';'\n",
    "    writer.writerow([\"ID\", \"Label\"])  # Write the column names\n",
    "    for i, item in enumerate(results):\n",
    "        writer.writerow([i, item])  # Write each item in results as a row with its line number"
   ]
  },
  {
   "cell_type": "code",
   "execution_count": 73,
   "metadata": {},
   "outputs": [
    {
     "data": {
      "text/plain": [
       "array([False, False, False, ..., False, False, False])"
      ]
     },
     "execution_count": 73,
     "metadata": {},
     "output_type": "execute_result"
    }
   ],
   "source": [
    "results==0\n"
   ]
  },
  {
   "cell_type": "code",
   "execution_count": 4,
   "metadata": {},
   "outputs": [],
   "source": [
    "def most_common_element(lst):\n",
    "    counts = {}\n",
    "    for element in lst:\n",
    "        if element in counts:\n",
    "            counts[element] += 1\n",
    "        else:\n",
    "            counts[element] = 1\n",
    "    max_count = max(counts.values())\n",
    "    most_common_elements = [key for key, value in counts.items() if value == max_count]\n",
    "\n",
    "    most_common_element = None\n",
    "    for element in lst:\n",
    "        if element in most_common_elements:\n",
    "            most_common_element = element\n",
    "            break\n",
    "    \n",
    "    return most_common_element"
   ]
  },
  {
   "cell_type": "code",
   "execution_count": 266,
   "metadata": {},
   "outputs": [],
   "source": [
    "# knn approaches are not adding a lot of because the data is not diverse enough\n",
    "\n",
    "def lemmatize_sentences(sentences):\n",
    "    lemmatizer = WordNetLemmatizer()\n",
    "    lemmatized_sentences = []\n",
    "\n",
    "    for sentence in sentences:\n",
    "        tokens = word_tokenize(sentence)\n",
    "        lemmatized_tokens = [lemmatizer.lemmatize(token) for token in tokens]\n",
    "        lemmatized_sentence = ' '.join(lemmatized_tokens)\n",
    "        lemmatized_sentences.append(lemmatized_sentence)\n",
    "\n",
    "    return lemmatized_sentences\n",
    "\n",
    "# TODO remove punctation\n",
    "def phrase_sentences(sentences,phrase=None):\n",
    "    list_tokens = []\n",
    "    for sentence in sentences:\n",
    "        list_tokens.append(word_tokenize(sentence)) \n",
    "    if phrase is None:\n",
    "        phrase = Phrases(list_tokens,threshold=10, connector_words=ENGLISH_CONNECTOR_WORDS)\n",
    "    phraser_model = Phraser(phrase)\n",
    "    transformed_sentences = [phraser_model[sentence] for sentence in list_tokens]\n",
    "    return transformed_sentences,phrase\n",
    "\n",
    "def proprocessing_sentences(sentences,phrase=None):\n",
    "    lemmatized_sentences = lemmatize_sentences(sentences)\n",
    "    transformed_sentences,phrase = phrase_sentences(lemmatized_sentences,phrase)\n",
    "    return transformed_sentences,phrase\n"
   ]
  },
  {
   "cell_type": "code",
   "execution_count": 267,
   "metadata": {},
   "outputs": [
    {
     "data": {
      "text/plain": [
       "labels\n",
       "6     32\n",
       "1     26\n",
       "2     19\n",
       "7     18\n",
       "9     18\n",
       "10    15\n",
       "5     15\n",
       "11    14\n",
       "8     13\n",
       "4     11\n",
       "3     10\n",
       "0      9\n",
       "Name: count, dtype: int64"
      ]
     },
     "execution_count": 267,
     "metadata": {},
     "output_type": "execute_result"
    }
   ],
   "source": [
    "df_test.labels.value_counts()\n",
    "# TODO maybe rebalance the testset?"
   ]
  },
  {
   "cell_type": "markdown",
   "metadata": {},
   "source": [
    "### tf-idf + classificateur"
   ]
  },
  {
   "cell_type": "code",
   "execution_count": 268,
   "metadata": {},
   "outputs": [],
   "source": [
    "# Define NLP preprocessing steps\n",
    "def preprocess_text(X):\n",
    "    X = X.str.lower().apply(word_tokenize)  # Tokenization\n",
    "    # X = X.apply(lambda x:[word for word in x if word not in stopwords.words('english')])  # Stopword Removal\n",
    "    lemmatizer = WordNetLemmatizer()\n",
    "    X = X.apply(lambda x: [lemmatizer.lemmatize(word) for word in x])  # Lemmatization\n",
    "    # print(X)\n",
    "    return X.apply(lambda x:' '.join(x))\n",
    "\n",
    "pipeline = Pipeline([\n",
    "    ('preprocess', FunctionTransformer(preprocess_text)),\n",
    "    ('vectorizer',  TfidfVectorizer(sublinear_tf=True, max_df=0.5, min_df=5, stop_words=\"english\")),\n",
    "    ('classifier', SGDClassifier(loss='hinge', penalty='l2',\n",
    "                          alpha=1e-3, random_state=42,\n",
    "                          max_iter=5, tol=None))\n",
    "])\n",
    "\n",
    "X_train = df_train_plus.loc[:,\"sentences\"]\n",
    "y_train = df_train_plus.loc[:,\"labels\"]\n",
    "\n",
    "pipeline.fit(X_train, y_train)\n",
    "predicted_label1 = pipeline.predict(df_test.loc[:,\"sentences\"])"
   ]
  },
  {
   "cell_type": "code",
   "execution_count": 269,
   "metadata": {},
   "outputs": [
    {
     "data": {
      "text/plain": [
       "0.475"
      ]
     },
     "execution_count": 269,
     "metadata": {},
     "output_type": "execute_result"
    }
   ],
   "source": [
    "np.mean(predicted_label1 == df_test.loc[:,\"labels\"])"
   ]
  },
  {
   "cell_type": "code",
   "execution_count": 270,
   "metadata": {},
   "outputs": [
    {
     "data": {
      "text/plain": [
       "1     31\n",
       "5     30\n",
       "7     26\n",
       "6     25\n",
       "10    23\n",
       "2     20\n",
       "9     18\n",
       "11    11\n",
       "3      9\n",
       "4      4\n",
       "8      3\n",
       "Name: count, dtype: int64"
      ]
     },
     "execution_count": 270,
     "metadata": {},
     "output_type": "execute_result"
    }
   ],
   "source": [
    "pd.Series(predicted_label1).value_counts()"
   ]
  },
  {
   "cell_type": "code",
   "execution_count": 271,
   "metadata": {},
   "outputs": [
    {
     "name": "stdout",
     "output_type": "stream",
     "text": [
      "              precision    recall  f1-score   support\n",
      "\n",
      "           0       0.00      0.00      0.00         9\n",
      "           1       0.39      0.46      0.42        26\n",
      "           2       0.60      0.63      0.62        19\n",
      "           3       0.44      0.40      0.42        10\n",
      "           4       0.25      0.09      0.13        11\n",
      "           5       0.47      0.93      0.62        15\n",
      "           6       0.48      0.38      0.42        32\n",
      "           7       0.65      0.94      0.77        18\n",
      "           8       0.33      0.08      0.12        13\n",
      "           9       0.44      0.44      0.44        18\n",
      "          10       0.22      0.33      0.26        15\n",
      "          11       0.82      0.64      0.72        14\n",
      "\n",
      "    accuracy                           0.48       200\n",
      "   macro avg       0.42      0.44      0.41       200\n",
      "weighted avg       0.45      0.47      0.44       200\n",
      "\n"
     ]
    },
    {
     "name": "stderr",
     "output_type": "stream",
     "text": [
      "c:\\Users\\matth\\AppData\\Local\\Programs\\Python\\Python311\\Lib\\site-packages\\sklearn\\metrics\\_classification.py:1471: UndefinedMetricWarning: Precision and F-score are ill-defined and being set to 0.0 in labels with no predicted samples. Use `zero_division` parameter to control this behavior.\n",
      "  _warn_prf(average, modifier, msg_start, len(result))\n",
      "c:\\Users\\matth\\AppData\\Local\\Programs\\Python\\Python311\\Lib\\site-packages\\sklearn\\metrics\\_classification.py:1471: UndefinedMetricWarning: Precision and F-score are ill-defined and being set to 0.0 in labels with no predicted samples. Use `zero_division` parameter to control this behavior.\n",
      "  _warn_prf(average, modifier, msg_start, len(result))\n",
      "c:\\Users\\matth\\AppData\\Local\\Programs\\Python\\Python311\\Lib\\site-packages\\sklearn\\metrics\\_classification.py:1471: UndefinedMetricWarning: Precision and F-score are ill-defined and being set to 0.0 in labels with no predicted samples. Use `zero_division` parameter to control this behavior.\n",
      "  _warn_prf(average, modifier, msg_start, len(result))\n"
     ]
    }
   ],
   "source": [
    "report = classification_report(df_test.loc[:,\"labels\"],pd.Series(predicted_label1))\n",
    "print(report)"
   ]
  },
  {
   "cell_type": "code",
   "execution_count": 272,
   "metadata": {},
   "outputs": [
    {
     "data": {
      "image/png": "[encoded data removed]",
      "text/plain": [
       "<Figure size 640x480 with 2 Axes>"
      ]
     },
     "metadata": {},
     "output_type": "display_data"
    }
   ],
   "source": [
    "cm = confusion_matrix(df_test.loc[:,\"labels\"],pd.Series(predicted_label1))\n",
    "df_cm = pd.DataFrame(cm, index=list(range(12)), columns=list(range(12)))\n",
    "\n",
    "sn.set(font_scale=1)\n",
    "sn.heatmap(df_cm, annot=True, annot_kws={\"size\": 8}, cmap='coolwarm', linewidth=0.5)\n",
    "plt.show()"
   ]
  },
  {
   "cell_type": "markdown",
   "metadata": {},
   "source": [
    "### tf-idf classificateur et countvectorizer"
   ]
  },
  {
   "cell_type": "code",
   "execution_count": 6,
   "metadata": {},
   "outputs": [
    {
     "data": {
      "text/plain": [
       "0.5"
      ]
     },
     "execution_count": 6,
     "metadata": {},
     "output_type": "execute_result"
    }
   ],
   "source": [
    "from sklearn.linear_model import SGDClassifier\n",
    "from sklearn.feature_extraction.text import CountVectorizer\n",
    "from sklearn.feature_extraction.text import TfidfTransformer\n",
    "from sklearn.ensemble import RandomForestClassifier\n",
    "from sklearn.linear_model import LogisticRegression, SGDClassifier\n",
    "from sklearn.naive_bayes import ComplementNB\n",
    "from sklearn.neighbors import KNeighborsClassifier, NearestCentroid\n",
    "from sklearn.svm import LinearSVC\n",
    "\n",
    "text_clf = Pipeline([\n",
    "    # ('vect', CountVectorizer()),\n",
    "    ('tfidf', TfidfVectorizer(sublinear_tf=True, max_df=0.5, min_df=5, stop_words=\"english\")),\n",
    "    ('clf',RandomForestClassifier()),\n",
    "])\n",
    "\n",
    "X_train = df_train_plus.loc[:,\"sentences\"]\n",
    "y_train = df_train_plus.loc[:,\"labels\"]\n",
    "\n",
    "text_clf.fit(X_train, y_train)\n",
    "predicted2 = text_clf.predict(df_test.loc[:,\"sentences\"])\n",
    "np.mean(predicted2 == df_test.loc[:,\"labels\"])"
   ]
  },
  {
   "cell_type": "code",
   "execution_count": 63,
   "metadata": {},
   "outputs": [],
   "source": [
    "def _preprocess_text(X):\n",
    "    X = X.str.lower().apply(word_tokenize)  # Tokenization\n",
    "    # X = X.apply(lambda x:[word for word in x if word not in stopwords.words('english')])  # Stopword Removal\n",
    "    lemmatizer = WordNetLemmatizer()\n",
    "    X = X.apply(lambda x: [lemmatizer.lemmatize(word) for word in x])  # Lemmatization\n",
    "    # print(X)\n",
    "    return X.apply(lambda x:' '.join(x))\n",
    "\n",
    "def tf_idf_classifier(df_train,stop_words=\"english\"):\n",
    "    pipeline = Pipeline([\n",
    "    ('preprocess', FunctionTransformer(_preprocess_text)),\n",
    "    ('vectorizer',  TfidfVectorizer(sublinear_tf=True, stop_words=stop_words)),#, max_df=0.5, min_df=5\n",
    "    ])\n",
    "    predicted_label = pipeline.fit_transform(df_train.loc[:,\"sentences\"])\n",
    "    vectorizer = pipeline.named_steps['vectorizer']\n",
    "    vocabulary = vectorizer.vocabulary_\n",
    "    return vocabulary\n",
    "    "
   ]
  },
  {
   "cell_type": "code",
   "execution_count": 9,
   "metadata": {},
   "outputs": [],
   "source": [
    "# predicted_label = tf_idf_classifier(df_train_plus,df_test,classifier=SGDClassifier(),stop_words=\"english\")"
   ]
  },
  {
   "cell_type": "code",
   "execution_count": 64,
   "metadata": {},
   "outputs": [],
   "source": [
    "vocab = tf_idf_classifier(df_train_plus,stop_words=\"english\")"
   ]
  },
  {
   "cell_type": "code",
   "execution_count": 72,
   "metadata": {},
   "outputs": [
    {
     "data": {
      "text/plain": [
       "3332"
      ]
     },
     "execution_count": 72,
     "metadata": {},
     "output_type": "execute_result"
    }
   ],
   "source": [
    "len(sorted(list(vocab.keys())))"
   ]
  },
  {
   "cell_type": "code",
   "execution_count": 7,
   "metadata": {},
   "outputs": [
    {
     "name": "stderr",
     "output_type": "stream",
     "text": [
      "c:\\Users\\matth\\AppData\\Local\\Programs\\Python\\Python311\\Lib\\site-packages\\transformers\\utils\\generic.py:309: UserWarning: torch.utils._pytree._register_pytree_node is deprecated. Please use torch.utils._pytree.register_pytree_node instead.\n",
      "  _torch_pytree._register_pytree_node(\n"
     ]
    }
   ],
   "source": [
    "from sentence_transformers import SentenceTransformer\n",
    "model = SentenceTransformer(embedding)"
   ]
  },
  {
   "cell_type": "code",
   "execution_count": 65,
   "metadata": {},
   "outputs": [],
   "source": [
    "from clean_code.utilities import import_data\n",
    "theme = [\"Politics\",\"Health\",\"Finance\",\"Travel\",\"Food\",\"Education\",\"Environment\",\"Fashion\",\"Science\",\"Sports\",\"Technology\",\"Entertainment\"]\n",
    "embedding_voc= model.encode(list(vocab.keys()))\n",
    "embedding_theme = model.encode(theme)\n",
    "\n",
    "results1 = cosine_similarity(embedding_voc,embedding_theme)"
   ]
  },
  {
   "cell_type": "code",
   "execution_count": 11,
   "metadata": {},
   "outputs": [
    {
     "name": "stdout",
     "output_type": "stream",
     "text": [
      "(5192, 384)\n"
     ]
    }
   ],
   "source": [
    "def finetuned_llm(model_name_llm,model_name_classifier, df_train, df_test):\n",
    "    model_llm = SentenceTransformer(model_name_llm)\n",
    "    embeddings_test = model_llm.encode(list(df_test[\"sentences\"]))\n",
    "    embedding_train = model_llm.encode(list(df_train['sentences']))\n",
    "    print(embedding_train.shape)\n",
    "    model_name_classifier.fit(embedding_train,df_train['labels'])\n",
    "    predicted_label = model_name_classifier.predict(embeddings_test)\n",
    "    return predicted_label\n",
    "\n",
    "model_name_classifier = LinearSVC(C=0.1, dual=False) #SGDClassifier(loss='hinge', penalty='l2',alpha=1e-3, random_state=42)\n",
    "df_train = df_train_plus\n",
    "\n",
    "predicited = finetuned_llm(model_name,model_name_classifier, df_train, df_test)"
   ]
  },
  {
   "cell_type": "code",
   "execution_count": 12,
   "metadata": {},
   "outputs": [
    {
     "data": {
      "text/plain": [
       "0.805"
      ]
     },
     "execution_count": 12,
     "metadata": {},
     "output_type": "execute_result"
    }
   ],
   "source": [
    "np.mean(predicited == df_test['labels'])"
   ]
  },
  {
   "cell_type": "code",
   "execution_count": 19,
   "metadata": {},
   "outputs": [],
   "source": [
    "import torch\n",
    "import torch.nn as nn\n",
    "import torch.nn.functional as F\n",
    "\n",
    "class BiLSTM(nn.Module):\n",
    "\n",
    "    def __init__(self, pretrained_vectors, num_class, args, dimension=300, freeze_embeddings = False):\n",
    "        super(BiLSTM, self).__init__()\n",
    "        self.args = args\n",
    "        self.embedding = nn.Embedding.from_pretrained(pretrained_vectors.vectors, freeze=freeze_embeddings)\n",
    "        self.lstm = nn.LSTM(input_size=300,\n",
    "                            hidden_size=dimension//2, \n",
    "                            num_layers=3,\n",
    "                            batch_first=True,\n",
    "                            bidirectional=True)\n",
    "        self.drop = nn.Dropout(p=0.3)\n",
    "        self.hidden2tag = nn.Linear(dimension, num_class)\n",
    "\n",
    "    def forward(self, sentence, text_len=12):\n",
    "        \n",
    "        embeds = self.embedding.encode(sentence)\n",
    "        output, hidden = self.lstm(embeds.view(len(sentence), 1, -1))\n",
    "        output = self.drop(output)\n",
    "        outputs = self.hidden2tag(output)\n",
    "        batch_size = outputs.size(0)\n",
    "        seq_len = outputs.size(1)\n",
    "\n",
    "        outputs = outputs.view(batch_size*seq_len, -1)\n",
    "        scores = F.log_softmax(outputs, 1)\n",
    "\n",
    "        _, tag_seq  = torch.max(scores, 1)\n",
    "        tag_seq = tag_seq.view(batch_size, seq_len)\n",
    "        return  scores, tag_seq"
   ]
  },
  {
   "cell_type": "code",
   "execution_count": 20,
   "metadata": {},
   "outputs": [],
   "source": [
    "from torch.utils.data import DataLoader\n",
    "\n",
    "\n",
    "def prepare_data(data):\n",
    "  data = list(data)\n",
    "  data = [sentence.split() for sentence in data]\n",
    "  \n",
    "def train(model,trainset,optimizer, ep, args):\n",
    "  \n",
    "  model.train()\n",
    "  loss_it, acc_it = list(), list()\n",
    "  for it, batch in tqdm(enumerate(trainset), desc=\"Epoch %s:\" % (ep), total=trainset.__len__()):\n",
    "    optimizer.zero_grad()\n",
    "    model.zero_grad()\n",
    "\n",
    "    logits, tag_seq = model(batch)\n",
    "    \n",
    "    if 'class_weights' in args:\n",
    "        loss_fn = nn.NLLLoss(weight=args['class_weights'])  \n",
    "    else: \n",
    "        loss_fn = nn.NLLLoss()\n",
    "        \n",
    "    loss = loss_fn(logits, batch['label'].view(args[\"b_size\"]))\n",
    "\n",
    "    loss.backward()\n",
    "    optimizer.step()\n",
    "    loss_it.append(loss.item())\n",
    "    \n",
    "    correct = (tag_seq.flatten() == batch['label'].flatten()).float().sum()\n",
    "    acc = correct / batch['label'].flatten().size(0)\n",
    "    acc_it.append(acc.item())\n",
    "\n",
    "  loss_it_avg = sum(loss_it)/len(loss_it)\n",
    "  acc_it_avg = sum(acc_it)/len(acc_it)\n",
    "  \n",
    "  print(\"Epoch %s/%s : %s : (%s %s) (%s %s)\" % (colored(str(ep), 'blue'),args['max_eps'] , colored('Training', 'blue'), colored('loss', 'cyan'), sum(loss_it)/len(loss_it), colored('acc', 'cyan'), sum(acc_it) / len(acc_it)))\n"
   ]
  },
  {
   "cell_type": "code",
   "execution_count": 21,
   "metadata": {},
   "outputs": [],
   "source": [
    "def inference(target, model):\n",
    "  \"\"\"\n",
    "    Args:\n",
    "      target (str): modify the display, usually either 'validation' or 'test'\n",
    "  \"\"\"\n",
    "  model.eval()\n",
    "\n",
    "  loss_it, acc_it, f1_it = list(), list(), list()\n",
    "  preds, trues = list(), list()\n",
    "\n",
    "  for it, batch in tqdm(enumerate(loader), desc=\"%s:\" % (target), total=loader.__len__()):\n",
    "    with torch.no_grad():\n",
    "      loss, logits, tag_seq = model(batch)\n",
    "      loss_it.append(loss.item())\n",
    "      \n",
    "      correct = (tag_seq.flatten() == batch['label'].flatten()).float().sum()\n",
    "      acc = correct / batch['label'].flatten().size(0)\n",
    "      acc_it.append(acc.item())\n",
    "      \n",
    "      preds.extend(tag_seq.cpu().detach().tolist())\n",
    "      trues.extend(batch['label'].cpu().detach().tolist())\n",
    "\n",
    "\n",
    "  loss_it_avg = sum(loss_it)/len(loss_it)\n",
    "  acc_it_avg = sum(acc_it)/len(acc_it)\n",
    "  \n",
    "  # print useful information. Important during training as we want to know the performance over the validation set after each epoch\n",
    "  print(\"%s : (%s %s) (%s %s)\" % ( colored(target, 'blue'), colored('loss', 'cyan'), sum(loss_it)/len(loss_it), colored('acc', 'cyan'), sum(acc_it) / len(acc_it)))\n",
    "\n",
    "  # return the true and predicted values with the losses and accuracies\n",
    "  return trues, preds, loss_it_avg, acc_it_avg, loss_it, acc_it"
   ]
  },
  {
   "cell_type": "code",
   "execution_count": 22,
   "metadata": {},
   "outputs": [
    {
     "name": "stderr",
     "output_type": "stream",
     "text": [
      ".vector_cache\\wiki.en.vec: 6.60GB [47:32, 2.31MB/s]                                \n",
      "  0%|          | 0/2519370 [00:00<?, ?it/s]Skipping token b'2519370' with 1-dimensional vector [b'300']; likely a header\n",
      "100%|██████████| 2519370/2519370 [08:57<00:00, 4688.85it/s] \n"
     ]
    },
    {
     "ename": "AttributeError",
     "evalue": "'Tensor' object has no attribute 'vectors'",
     "output_type": "error",
     "traceback": [
      "\u001b[1;31m---------------------------------------------------------------------------\u001b[0m",
      "\u001b[1;31mAttributeError\u001b[0m                            Traceback (most recent call last)",
      "Cell \u001b[1;32mIn[22], line 19\u001b[0m\n\u001b[0;32m     15\u001b[0m   \u001b[38;5;28;01mfor\u001b[39;00m ep \u001b[38;5;129;01min\u001b[39;00m \u001b[38;5;28mrange\u001b[39m(args[\u001b[38;5;124m'\u001b[39m\u001b[38;5;124mmax_eps\u001b[39m\u001b[38;5;124m'\u001b[39m]):\n\u001b[0;32m     16\u001b[0m     train(model,df_train[\u001b[38;5;124m'\u001b[39m\u001b[38;5;124msentences\u001b[39m\u001b[38;5;124m'\u001b[39m], optimizer, ep, args)\n\u001b[1;32m---> 19\u001b[0m model \u001b[38;5;241m=\u001b[39m \u001b[43mBiLSTM\u001b[49m\u001b[43m(\u001b[49m\u001b[43mpretrained_vectors\u001b[49m\u001b[38;5;241;43m.\u001b[39;49m\u001b[43mvectors\u001b[49m\u001b[43m,\u001b[49m\u001b[43m \u001b[49m\u001b[43margs\u001b[49m\u001b[43m[\u001b[49m\u001b[38;5;124;43m'\u001b[39;49m\u001b[38;5;124;43mnum_class\u001b[39;49m\u001b[38;5;124;43m'\u001b[39;49m\u001b[43m]\u001b[49m\u001b[43m,\u001b[49m\u001b[43m \u001b[49m\u001b[43margs\u001b[49m\u001b[43m,\u001b[49m\u001b[43m \u001b[49m\u001b[43mdimension\u001b[49m\u001b[38;5;241;43m=\u001b[39;49m\u001b[38;5;241;43m50\u001b[39;49m\u001b[43m,\u001b[49m\u001b[43m \u001b[49m\u001b[43mfreeze_embeddings\u001b[49m\u001b[43m \u001b[49m\u001b[38;5;241;43m=\u001b[39;49m\u001b[43m \u001b[49m\u001b[38;5;28;43;01mTrue\u001b[39;49;00m\u001b[43m \u001b[49m\u001b[43m)\u001b[49m\n\u001b[0;32m     20\u001b[0m loss_list_val \u001b[38;5;241m=\u001b[39m run_epochs(model, args)\n\u001b[0;32m     21\u001b[0m \u001b[38;5;66;03m# model_llm = SentenceTransformer('sentence-transformers/all-MiniLM-L6-v2')\u001b[39;00m\n\u001b[0;32m     22\u001b[0m \u001b[38;5;66;03m# embeddings_test = model_llm.encode(list(df_test[\"sentences\"]))\u001b[39;00m\n",
      "Cell \u001b[1;32mIn[19], line 10\u001b[0m, in \u001b[0;36mBiLSTM.__init__\u001b[1;34m(self, pretrained_vectors, num_class, args, dimension, freeze_embeddings)\u001b[0m\n\u001b[0;32m      8\u001b[0m \u001b[38;5;28msuper\u001b[39m(BiLSTM, \u001b[38;5;28mself\u001b[39m)\u001b[38;5;241m.\u001b[39m\u001b[38;5;21m__init__\u001b[39m()\n\u001b[0;32m      9\u001b[0m \u001b[38;5;28mself\u001b[39m\u001b[38;5;241m.\u001b[39margs \u001b[38;5;241m=\u001b[39m args\n\u001b[1;32m---> 10\u001b[0m \u001b[38;5;28mself\u001b[39m\u001b[38;5;241m.\u001b[39membedding \u001b[38;5;241m=\u001b[39m nn\u001b[38;5;241m.\u001b[39mEmbedding\u001b[38;5;241m.\u001b[39mfrom_pretrained(\u001b[43mpretrained_vectors\u001b[49m\u001b[38;5;241;43m.\u001b[39;49m\u001b[43mvectors\u001b[49m, freeze\u001b[38;5;241m=\u001b[39mfreeze_embeddings)\n\u001b[0;32m     11\u001b[0m \u001b[38;5;28mself\u001b[39m\u001b[38;5;241m.\u001b[39mlstm \u001b[38;5;241m=\u001b[39m nn\u001b[38;5;241m.\u001b[39mLSTM(input_size\u001b[38;5;241m=\u001b[39m\u001b[38;5;241m300\u001b[39m,\n\u001b[0;32m     12\u001b[0m                     hidden_size\u001b[38;5;241m=\u001b[39mdimension\u001b[38;5;241m/\u001b[39m\u001b[38;5;241m/\u001b[39m\u001b[38;5;241m2\u001b[39m, \n\u001b[0;32m     13\u001b[0m                     num_layers\u001b[38;5;241m=\u001b[39m\u001b[38;5;241m3\u001b[39m,\n\u001b[0;32m     14\u001b[0m                     batch_first\u001b[38;5;241m=\u001b[39m\u001b[38;5;28;01mTrue\u001b[39;00m,\n\u001b[0;32m     15\u001b[0m                     bidirectional\u001b[38;5;241m=\u001b[39m\u001b[38;5;28;01mTrue\u001b[39;00m)\n\u001b[0;32m     16\u001b[0m \u001b[38;5;28mself\u001b[39m\u001b[38;5;241m.\u001b[39mdrop \u001b[38;5;241m=\u001b[39m nn\u001b[38;5;241m.\u001b[39mDropout(p\u001b[38;5;241m=\u001b[39m\u001b[38;5;241m0.3\u001b[39m)\n",
      "\u001b[1;31mAttributeError\u001b[0m: 'Tensor' object has no attribute 'vectors'"
     ]
    }
   ],
   "source": [
    "import torch.optim as optim\n",
    "from torchtext.vocab import GloVe, vocab, FastText\n",
    "\n",
    "# pretrained_vectors = GloVe(name=\"6B\", dim='50')\n",
    "pretrained_vectors = FastText(language='en')\n",
    "\n",
    "args = {'bsize': 64}\n",
    "args.update({'max_eps': 10, 'lr': 0.001, 'device': 'cpu', 'cuda': -1, 'seq_len':12, 'num_class': 12})\n",
    "\n",
    "\n",
    "def run_epochs(model,df_train, args):\n",
    "  # model_llm = SentenceTransformer('sentence-transformers/all-MiniLM-L6-v2')\n",
    "  # embedding_train = model_llm.encode(list(df_train['sentences']))\n",
    "  optimizer = optim.Adam(model.parameters(), lr = args['lr'])\n",
    "  for ep in range(args['max_eps']):\n",
    "    train(model,df_train['sentences'], optimizer, ep, args)\n",
    "\n",
    "\n",
    "model = BiLSTM(pretrained_vectors.vectors, args['num_class'], args, dimension=50, freeze_embeddings = True )\n",
    "loss_list_val = run_epochs(model, args)\n",
    "# model_llm = SentenceTransformer('sentence-transformers/all-MiniLM-L6-v2')\n",
    "# embeddings_test = model_llm.encode(list(df_test[\"sentences\"]))\n",
    "   "
   ]
  },
  {
   "cell_type": "code",
   "execution_count": null,
   "metadata": {},
   "outputs": [],
   "source": [
    "# weights =  {6:95/149,1:95/119,5:95/111,0:95/118,7: 95/97,9: 95/97,10:95/90,2: 95/86,11:95/85,3: 95/72,8: 95/57,4: 95/59}\n",
    "# finetuned_llm('sentence-transformers/all-MiniLM-L6-v2',model_name_classifier,df_train_plus,df_test)"
   ]
  },
  {
   "cell_type": "code",
   "execution_count": 66,
   "metadata": {},
   "outputs": [],
   "source": [
    "threshold = [0.5,0.5,0.5,0.5,0.5,0.5,0.5,0.5,0.5,0.5,0.5,0.5]\n",
    "vectors = np.array(results1) \n",
    "indices = np.where(np.any(vectors > threshold, axis=1))[0]\n"
   ]
  },
  {
   "cell_type": "code",
   "execution_count": 67,
   "metadata": {},
   "outputs": [
    {
     "data": {
      "text/plain": [
       "array(['transportation', 'transport', 'transit', 'politically',\n",
       "       'infrastructure', 'political', 'drive', 'advancement',\n",
       "       'governmental', 'government', 'art', 'advanced', 'innovation',\n",
       "       'governance', 'mobility', 'driving', 'development', 'transporter',\n",
       "       'sailing', 'firm', 'route', 'senator', 'debate', 'elected', 'law',\n",
       "       'opposition', 'parliamentary', 'examination', 'lawmaking',\n",
       "       'legislative', 'partisan', 'party', 'fuel', 'feed', 'competitive',\n",
       "       'aspiring', 'competition', 'publicity', 'electoral', 'ideological',\n",
       "       'landscape', 'campaign', 'politics', 'partisanship',\n",
       "       'electioneering', 'language', 'ideology', 'campaigning',\n",
       "       'television', 'election', 'war', 'politicking', 'environment',\n",
       "       'compete', 'politician', 'atmosphere', 'climate', 'corruption',\n",
       "       'diet', 'health', 'physical', 'activity', 'meal', 'wellness',\n",
       "       'healthy', 'living', 'life', 'nutrition', 'food', 'nutritional',\n",
       "       'nutrient', 'dietary', 'wellbeing', 'culinary', 'lifestyle',\n",
       "       'research', 'technology', 'disease', 'science', 'scientific',\n",
       "       'illness', 'scientifically', 'earning', 'acclaim', 'promoting',\n",
       "       'knowledge', 'medical', 'discovery', 'healthcare', 'care',\n",
       "       'pollution', 'attaining', 'hygiene', 'study', 'happiness',\n",
       "       'promotes', 'sustainable', 'stock', 'market', 'financial',\n",
       "       'monetary', 'recession', 'currency', 'equity', 'business',\n",
       "       'investing', 'profitable', 'investment', 'asset', 'produce',\n",
       "       'fintech', 'leverage', 'tech', 'technological', 'tailored',\n",
       "       'earnings', 'futuristic', 'wealth', 'rich', 'intelligence',\n",
       "       'learning', 'creation', 'revenue', 'portfolio', 'fiscal', 'income',\n",
       "       'visiting', 'exploration', 'journeyes', 'trip', 'getaway',\n",
       "       'traveler', 'excitement', 'journeyer', 'thrilling', 'moving',\n",
       "       'abroad', 'journey', 'overseas', 'destination', 'racing',\n",
       "       'excursion', 'tourism', 'industry', 'travel', 'voyage', 'tour',\n",
       "       'chronic', 'backpacking', 'culture', 'wandering', 'explore',\n",
       "       'traveller', 'immerse', 'surrounding', 'enjoying', 'restaurant',\n",
       "       'cuisine', 'eatery', 'trendy', 'flavor', 'fashion', 'appetite',\n",
       "       'dish', 'rewarding', 'drinking', 'water', 'staying', 'consuming',\n",
       "       'bread', 'tasting', 'sustenance', 'breakfast', 'lunch', 'dinner',\n",
       "       'appetizing', 'hunger', 'kitchen', 'cooking', 'fun', 'learn',\n",
       "       'recipe', 'enjoyable', 'inventive', 'creativity', 'education',\n",
       "       'training', 'catering', 'school', 'curriculum', 'educational',\n",
       "       'academic', 'curricular', 'future', 'pedagogical', 'teaching',\n",
       "       'university', 'instructional', 'competence', 'pedagogy', 'design',\n",
       "       'student', 'researcher', 'digital', 'studying', 'surroundings',\n",
       "       'academia', 'ecosystem', 'scholarship', 'institute', 'funding',\n",
       "       'learner', 'financing', 'ecological', 'ocean', 'environmental',\n",
       "       'environmentally', 'eco', 'nature', 'earth', 'ecology', 'habitat',\n",
       "       'biome', 'web', 'ecofriendly', 'ecologically', 'matter', 'biotic',\n",
       "       'rainforest', 'biosphere', 'sustainability', 'manufacturing',\n",
       "       'garment', 'production', 'clothing', 'vogue', 'apparel', 'style',\n",
       "       'clothes', 'govern', 'appearance', 'attire', 'outfit', 'governs',\n",
       "       'stylish', 'wear', 'costume', 'audience', 'spectator', 'dress',\n",
       "       'stylist', 'stroll', 'glamourous', 'luxury', 'glamour', 'artistic',\n",
       "       'fashionistas', 'designer', 'scientist', 'game', 'fashionable',\n",
       "       'gown', 'dressed', 'body', 'textile', 'suit', 'nasa', 'physic',\n",
       "       'golf', 'physicist', 'observation', 'winning', 'astronomy',\n",
       "       'engineering', 'agenda', 'developing', 'nba', 'league', 'playoff',\n",
       "       'postseason', 'sporting', 'sport', 'athletic', 'fed', 'feeding',\n",
       "       'tennis', 'serving', 'flight', 'tournament', 'soccer', 'football',\n",
       "       'olympic', 'olympics', 'olympian', 'sporty', 'productivity',\n",
       "       'facilitating', 'device', 'functionality', 'computing',\n",
       "       'technical', 'hardware', 'machinery', 'equipment', 'content',\n",
       "       'cyber', 'film', 'cinema', 'outside', 'history', 'music',\n",
       "       'president', 'budget', 'voting', 'drama', 'voter', 'congress',\n",
       "       'greenhouse', 'gas', 'immigration', 'democrat', 'socialist',\n",
       "       'college', 'tuition', 'republican', 'democratic', 'presidency',\n",
       "       'spending', 'senate', 'trump', 'presidential', 'bribery',\n",
       "       'parliament', 'governor', 'congressional', 'housing', 'hungry',\n",
       "       'violence', 'fund', 'lobbying', 'economic', 'congressman',\n",
       "       'engaging', 'renewable', 'bernie', 'democraticparty', 'america',\n",
       "       'corrupt', 'healthier', 'democracy', 'constituency', 'playing',\n",
       "       'career', 'gubernatorial', 'credit', 'cultural', 'liberalism',\n",
       "       'libertarian', 'economics', 'finance', 'visit', 'migration',\n",
       "       'attending', 'grocery', 'invests', 'modernization', 'bank',\n",
       "       'lobbyist', 'debt', 'acting', 'economy', 'trading', 'economist',\n",
       "       'wealthy', 'money', 'fruit', 'vegetable', 'consume', 'cancer',\n",
       "       'eating', 'mortality', 'eat', 'fitness', 'sugar', 'going',\n",
       "       'bodily', 'depression', 'obesity', 'consumed', 'chemical',\n",
       "       'veggie', 'physically', 'cooked', 'digestive', 'fat', 'milk',\n",
       "       'dieting', 'outdoors', 'salad', 'fish', 'stomach', 'substance',\n",
       "       'walking', 'swimming', 'gardening', 'inside', 'smoking',\n",
       "       'medication', 'sandwich', 'potato', 'egg', 'chicken', 'cycling',\n",
       "       'ingredient', 'basketball', 'transporting', 'beverage',\n",
       "       'industrial', 'mortgage', 'payment', 'invested', 'loan', 'invest',\n",
       "       'car', 'cash', 'expense', 'banking', 'treasury', 'budgeting',\n",
       "       'creditworthiness', 'repayment', 'lender', 'lending', 'subject',\n",
       "       'gym', 'entertainment', 'accounting', 'investor', 'goldman',\n",
       "       'electronics', 'borrowing', 'funded', 'seafood', 'watching',\n",
       "       'airline', 'vacation', 'economically', 'inhabited', 'lively',\n",
       "       'ship', 'vacationer', 'candy', 'laughter', 'swim', 'beauty',\n",
       "       'laughing', 'flying', 'skiing', 'homemade', 'scenery', 'outdoor',\n",
       "       'rice', 'takeoff', 'airplane', 'hospitality', 'chocolate', 'bacon',\n",
       "       'burger', 'cheese', 'cheeseburger', 'popcorn', 'pizza', 'beef',\n",
       "       'ball', 'dessert', 'soup', 'topping', 'pasta', 'coffee', 'pork',\n",
       "       'corn', 'steak', 'snack', 'flavoring', 'dressing', 'eaten',\n",
       "       'chili', 'bbq', 'biology', 'electronic', 'software', 'educator',\n",
       "       'mathematics', 'degree', 'graduation', 'graduate', 'chemistry',\n",
       "       'computer', 'undergraduate', 'graduating', 'diploma', 'studied',\n",
       "       'leisure', 'lab', 'biologist', 'learned', 'teacher', 'classroom',\n",
       "       'math', 'tailoring', 'taught', 'multimedia', 'schooling', 'teach',\n",
       "       'caring', 'educating', 'communication', 'vocational', 'homework',\n",
       "       'academically', 'dodgeball', 'educate', 'innovate', 'commuting',\n",
       "       'tv', 'educated', 'gamification', 'enjoyment', 'talent', 'garden',\n",
       "       'biking', 'cricket', 'meat', 'biological', 'atmospheric',\n",
       "       'warming', 'cloth', 'environmentalism', 'ecologist', 'inhabitance',\n",
       "       'dying', 'systems', 'recreational', 'jacket', 'denim', 'lace',\n",
       "       'bodysuits', 'skirt', 'legging', 'shirt', 'worn', 'sweatshirt',\n",
       "       'sneaker', 'playful', 'wardrobe', 'wearing', 'blouse', 'footwear',\n",
       "       'sundress', 'makeup', 'shirtdress', 'streetwear', 'styled',\n",
       "       'bodysuit', 'branding', 'lingerie', 'shoe', 'swimsuit', 'sweater',\n",
       "       'loungewear', 'stocking', 'sensualizing', 'sex', 'experiment',\n",
       "       'medicine', 'migrate', 'migrating', 'healthiest', 'competing',\n",
       "       'inhabit', 'examined', 'traveling', 'championship', 'fifa', 'nfl',\n",
       "       'hockey', 'athlete', 'motorsports', 'boxing', 'superbowl',\n",
       "       'baseball', 'mlb', 'dishing', 'nhl', 'commerce', 'tailor',\n",
       "       'airport', 'internet', 'retail', 'edible', 'ambient', 'healing',\n",
       "       'gaming', 'technologically', 'immerses', 'injury', 'wearer',\n",
       "       'taxi', 'commute', 'harvested', 'traveled', 'wearable',\n",
       "       'nanotechnology', 'purse', 'digitalization', 'agriculture',\n",
       "       'decorative', 'trained', 'wallet', 'theater', 'transported',\n",
       "       'comedy', 'curling', 'touring', 'kicking', 'theatre',\n",
       "       'entertained', 'dining', 'strolling', 'humor', 'sci', 'aquatic'],\n",
       "      dtype='<U27')"
      ]
     },
     "execution_count": 67,
     "metadata": {},
     "output_type": "execute_result"
    }
   ],
   "source": [
    "np.array(list(vocab.keys()))[indices]"
   ]
  },
  {
   "cell_type": "markdown",
   "metadata": {},
   "source": [
    "### autre tentative chelou"
   ]
  },
  {
   "cell_type": "code",
   "execution_count": 207,
   "metadata": {},
   "outputs": [
    {
     "name": "stdout",
     "output_type": "stream",
     "text": [
      "['John', 'Mary']\n"
     ]
    }
   ],
   "source": [
    "def phrase_text(text):\n",
    "    tokens = word_tokenize(text)\n",
    "    tagged = nltk.pos_tag(tokens)\n",
    "    chunks = nltk.ne_chunk(tagged, binary=False)\n",
    "    phrases = []\n",
    "    \n",
    "    for chunk in chunks:\n",
    "        if isinstance(chunk, nltk.Tree):\n",
    "            phrase = ' '.join([word for word, _ in chunk.leaves()])\n",
    "            phrases.append(phrase)\n",
    "    \n",
    "    return phrases\n",
    "\n",
    "text = \"John and Mary went to the park. They had a picnic there.\"\n",
    "phrases = phrase_text(text)\n",
    "print(phrases)"
   ]
  },
  {
   "cell_type": "markdown",
   "metadata": {},
   "source": [
    "### tf-idf improved"
   ]
  },
  {
   "cell_type": "code",
   "execution_count": 185,
   "metadata": {},
   "outputs": [],
   "source": [
    "train,phrase  = proprocessing_sentences(df_train_plus.sentences)\n",
    "test,_  = proprocessing_sentences(df_test.sentences,phrase)\n",
    "\n",
    "train =  [\" \".join(sentence) for sentence in train]\n",
    "infer = [\" \".join(sentence) for sentence in test]\n",
    "\n",
    "lemmatize_train = lemmatize_sentences(df_train_plus.sentences)\n",
    "lemmatize_test = lemmatize_sentences(df_test.sentences)"
   ]
  },
  {
   "cell_type": "code",
   "execution_count": 276,
   "metadata": {},
   "outputs": [],
   "source": [
    "vectorizer = TfidfVectorizer()\n",
    "X = vectorizer.fit_transform(df_train_plus.loc[:,\"sentences\"])\n",
    "\n",
    "query_vec = vectorizer.transform(df_test.loc[:,\"sentences\"])\n",
    "results = cosine_similarity(X,query_vec).transpose()\n",
    "highest_indices = np.argsort(results)[:,-25:]\n",
    "result = []\n",
    "for i in range(len(highest_indices)):\n",
    "    highest_indices[i] = df_train_plus.loc[highest_indices[i],'labels']\n",
    "    result.append(most_common_element(highest_indices[i]))"
   ]
  },
  {
   "cell_type": "code",
   "execution_count": 281,
   "metadata": {},
   "outputs": [
    {
     "data": {
      "text/plain": [
       "0.295"
      ]
     },
     "execution_count": 281,
     "metadata": {},
     "output_type": "execute_result"
    }
   ],
   "source": [
    "np.mean(result==df_test.loc[:,\"labels\"])"
   ]
  },
  {
   "cell_type": "code",
   "execution_count": 188,
   "metadata": {},
   "outputs": [
    {
     "data": {
      "text/plain": [
       "3     43\n",
       "5     39\n",
       "10    29\n",
       "7     17\n",
       "1     16\n",
       "9     14\n",
       "2     13\n",
       "6     12\n",
       "11     9\n",
       "4      5\n",
       "8      3\n",
       "Name: count, dtype: int64"
      ]
     },
     "execution_count": 188,
     "metadata": {},
     "output_type": "execute_result"
    }
   ],
   "source": [
    "pd.Series(result).value_counts()"
   ]
  },
  {
   "cell_type": "code",
   "execution_count": 189,
   "metadata": {},
   "outputs": [
    {
     "name": "stdout",
     "output_type": "stream",
     "text": [
      "              precision    recall  f1-score   support\n",
      "\n",
      "           0       0.00      0.00      0.00         9\n",
      "           1       0.75      0.46      0.57        26\n",
      "           2       0.62      0.42      0.50        19\n",
      "           3       0.19      0.80      0.30        10\n",
      "           4       0.60      0.27      0.37        11\n",
      "           5       0.31      0.80      0.44        15\n",
      "           6       0.42      0.16      0.23        32\n",
      "           7       0.76      0.72      0.74        18\n",
      "           8       0.33      0.08      0.12        13\n",
      "           9       0.43      0.33      0.38        18\n",
      "          10       0.14      0.27      0.18        15\n",
      "          11       0.67      0.43      0.52        14\n",
      "\n",
      "    accuracy                           0.39       200\n",
      "   macro avg       0.43      0.39      0.36       200\n",
      "weighted avg       0.47      0.39      0.39       200\n",
      "\n"
     ]
    },
    {
     "name": "stderr",
     "output_type": "stream",
     "text": [
      "c:\\Users\\matth\\AppData\\Local\\Programs\\Python\\Python311\\Lib\\site-packages\\sklearn\\metrics\\_classification.py:1471: UndefinedMetricWarning: Precision and F-score are ill-defined and being set to 0.0 in labels with no predicted samples. Use `zero_division` parameter to control this behavior.\n",
      "  _warn_prf(average, modifier, msg_start, len(result))\n",
      "c:\\Users\\matth\\AppData\\Local\\Programs\\Python\\Python311\\Lib\\site-packages\\sklearn\\metrics\\_classification.py:1471: UndefinedMetricWarning: Precision and F-score are ill-defined and being set to 0.0 in labels with no predicted samples. Use `zero_division` parameter to control this behavior.\n",
      "  _warn_prf(average, modifier, msg_start, len(result))\n",
      "c:\\Users\\matth\\AppData\\Local\\Programs\\Python\\Python311\\Lib\\site-packages\\sklearn\\metrics\\_classification.py:1471: UndefinedMetricWarning: Precision and F-score are ill-defined and being set to 0.0 in labels with no predicted samples. Use `zero_division` parameter to control this behavior.\n",
      "  _warn_prf(average, modifier, msg_start, len(result))\n"
     ]
    }
   ],
   "source": [
    "report = classification_report(df_test.loc[:,\"labels\"],pd.Series(result))\n",
    "print(report)"
   ]
  },
  {
   "cell_type": "code",
   "execution_count": 182,
   "metadata": {},
   "outputs": [
    {
     "data": {
      "image/png": "[encoded data removed]",
      "text/plain": [
       "<Figure size 640x480 with 2 Axes>"
      ]
     },
     "metadata": {},
     "output_type": "display_data"
    }
   ],
   "source": [
    "cm = confusion_matrix(df_test.loc[:,\"labels\"],pd.Series(result))\n",
    "df_cm = pd.DataFrame(cm, index=list(range(12)), columns=list(range(12)))\n",
    "\n",
    "sn.set(font_scale=1)\n",
    "sn.heatmap(df_cm, annot=True, annot_kws={\"size\": 8}, cmap='coolwarm', linewidth=0.5)\n",
    "plt.show()"
   ]
  },
  {
   "cell_type": "markdown",
   "metadata": {},
   "source": [
    "### Concat tf-idf"
   ]
  },
  {
   "cell_type": "code",
   "execution_count": 70,
   "metadata": {},
   "outputs": [],
   "source": [
    "grouped_sentences = df_train_plus.groupby('labels')['sentences'].apply(lambda x: ' '.join(x)).reset_index()\n",
    "lemmatized_sentences = lemmatize_sentences(grouped_sentences[\"sentences\"])"
   ]
  },
  {
   "cell_type": "code",
   "execution_count": 73,
   "metadata": {},
   "outputs": [
    {
     "data": {
      "text/plain": [
       "\"A new study reveals the benefits of meditation for mental health. A new study reveals the benefits of meditation for mental health. A new study reveals the benefits of meditation for mental health. Research uncovers the positive effects of contemplation on psychological wellbeing. The research discovers the positive effects of contemplation on psychological well-being. Research reveals the positive effects of contemplation on psychological well-being. Studies reveal the empowering impacts of meditation on mental prosperity. Studies reveal the empowering impacts of meditation on mental prosperity. Studies reveal the impacts of meditation on mental prosperity. Meditating individuals experience uplifting effects on their mental wellbeing. Meditation of individuals experiences edifying effects on their mental well-being. Meditation of individuals has edifying effects on their mental well-being. Meditation can enhance one's mental positivity. Meditation can improve one's mental positivity. Meditation can improve his mental positivity. Mindfulness practices boost psychological wellbeing. Awareness-raising practices increase psychological well-being. Consciousness practices stimulate psychological well-being. Mindfulness exercises amplify emotional prosperity. Consciousness exercises amplify emotional prosperity. Consciousness exercises amplify emotional prosperity. Mindful practices intensify emotional well-being. Conscious practices intensify emotional well-being. Conscious practices intensify emotional well-being. Mindful techniques amplify emotional prosperity. Conscious techniques amplify emotional prosperity. Conscious techniques amplify emotional prosperity. Mindful strategies intensify emotional wealth. Conscious strategies intensify emotional wealth. Reflected strategies intensify emotional wealth. Mindful techniques amplify sentimental riches. Conscious techniques amplify sentimental riches. Conscious techniques amplify sentimental riches. Sentimental wealth is magnified by mindful practices. Sensitive wealth is magnified by conscious practices. Sensitive wealth is amplified by conscious practices. Mindfulness amplifies emotional riches. Consciousness amplifies emotional riches. Consciousness amplifies emotional riches. Emotional wealth intensifies with mindfulness. Emotional wealth is intensified with full attention. Emotional wealth is intensifying with attention. Mindfulness deepens emotional riches. Consciousness deepens emotional riches. The spirit deepens emotional riches. Emotional wealth expands through mindful awareness. Emotional wealth expands through conscious consciousness. Emotional wealth expands with conscious consciousness. Mental wellness deepens through present moment consciousness. Mental well-being is deepened through the consciousness of the present moment. Mental well-being deepens through the consciousness of the present moment. Mindfulness practices foster profound mental health insights. Awareness practices encourage deep perceptions of mental health. Consciousness practices promote deep perceptions of mental health. Practicing mindfulness reveals profound mental wellbeing understandings. Practicing full attention reveals deep understandings of mental well-being. The practice of consciousness reveals deep understandings of mental well-being. Mindfulness practice uncovers deep insights into profound mental wellbeing. The practice of consciousness discovers deep knowledge of deep mental well-being. The practice of consciousness reveals deep knowledge of deep mental well-being. Mindfulness practice reveals profound insights into resilient mental health. The practice of consciousness reveals deep knowledge about resilient mental health. The practice of consciousness reveals deep knowledge of resilient mental health. Practicing mindfulness uncovers profound realizations about enduring mental wellness. Practicing full attention discovers deep achievements about lasting mental well-being. Practicing full consciousness reveals profound achievements on sustainable mental well-being. Practicing mindfulness reveals profound insights into lasting mental health. Practicing full care reveals deep knowledge of lasting mental health. The practice of vigilance reveals deep knowledge of sustainable mental health. Mindfulness practice uncovers enduring mental wellbeing revelations. The practice of consciousness discovers lasting revelations of mental well-being. The practice of consciousness reveals lasting revelations of mental well-being. Mindfulness training discovers lasting mental health breakthroughs. Mind-care training discovers lasting advances in mental health. The formation of consciousness discovers lasting breakthroughs in mental health. Mindfulness practice uncovers enduring mental wellness innovations. The practice of consciousness discovers lasting innovations in mental well-being. The practice of consciousness reveals lasting innovations in mental well-being. Mindfulness technique unfolds lasting mental prosperity discoveries. The technique of consciousness develops lasting discoveries of mental prosperity. The technique of consciousness develops from the lasting discoveries of mental prosperity. Mindfulness practices unlock enduring mental wellness revelations. Awareness practices unlock lasting mental well-being revelations. Consciousness practices unlock lasting revelations of mental well-being. Mindfulness techniques unveil lasting mental health epiphanies. Mind-care techniques reveal lasting mental health epiphanies. Consciousness techniques reveal sustainable mental health epiphanies. Mindfulness methods disclose enduring mental wellness revelations. Consciousness methods reveal lasting revelations of mental well-being. Consciousness methods reveal lasting revelations of mental well-being.\""
      ]
     },
     "execution_count": 73,
     "metadata": {},
     "output_type": "execute_result"
    }
   ],
   "source": [
    "grouped_sentences[\"sentences\"][0]"
   ]
  },
  {
   "cell_type": "code",
   "execution_count": 305,
   "metadata": {},
   "outputs": [],
   "source": [
    "vectorizer = TfidfVectorizer()\n",
    "X = vectorizer.fit_transform(grouped_sentences['sentences'])"
   ]
  },
  {
   "cell_type": "code",
   "execution_count": 306,
   "metadata": {},
   "outputs": [],
   "source": [
    "query_vec = vectorizer.transform(df_test.loc[:,\"sentences\"])\n",
    "results = cosine_similarity(X,query_vec).transpose()\n",
    "highest_indices = np.argsort(results)[:,-1:]"
   ]
  },
  {
   "cell_type": "code",
   "execution_count": 307,
   "metadata": {},
   "outputs": [
    {
     "data": {
      "text/plain": [
       "labels\n",
       "False    128\n",
       "True      72\n",
       "Name: count, dtype: int64"
      ]
     },
     "execution_count": 307,
     "metadata": {},
     "output_type": "execute_result"
    }
   ],
   "source": [
    "(grouped_sentences.loc[highest_indices.flatten(),'labels'].reset_index(drop=True)==df_test.loc[:,\"labels\"]).value_counts()"
   ]
  },
  {
   "cell_type": "code",
   "execution_count": 308,
   "metadata": {},
   "outputs": [
    {
     "data": {
      "text/plain": [
       "labels\n",
       "11    60\n",
       "3     36\n",
       "6     29\n",
       "7     17\n",
       "1     16\n",
       "5     14\n",
       "2     14\n",
       "9      9\n",
       "10     4\n",
       "8      1\n",
       "Name: count, dtype: int64"
      ]
     },
     "execution_count": 308,
     "metadata": {},
     "output_type": "execute_result"
    }
   ],
   "source": [
    "grouped_sentences.loc[highest_indices.flatten(),'labels'].reset_index(drop=True).value_counts()"
   ]
  },
  {
   "cell_type": "code",
   "execution_count": 309,
   "metadata": {},
   "outputs": [
    {
     "name": "stdout",
     "output_type": "stream",
     "text": [
      "              precision    recall  f1-score   support\n",
      "\n",
      "           0       0.00      0.00      0.00         9\n",
      "           1       0.62      0.38      0.48        26\n",
      "           2       0.29      0.21      0.24        19\n",
      "           3       0.22      0.80      0.35        10\n",
      "           4       0.00      0.00      0.00        11\n",
      "           5       0.79      0.73      0.76        15\n",
      "           6       0.21      0.19      0.20        32\n",
      "           7       0.94      0.89      0.91        18\n",
      "           8       0.00      0.00      0.00        13\n",
      "           9       0.56      0.28      0.37        18\n",
      "          10       0.75      0.20      0.32        15\n",
      "          11       0.15      0.64      0.24        14\n",
      "\n",
      "    accuracy                           0.36       200\n",
      "   macro avg       0.38      0.36      0.32       200\n",
      "weighted avg       0.41      0.36      0.35       200\n",
      "\n"
     ]
    },
    {
     "name": "stderr",
     "output_type": "stream",
     "text": [
      "c:\\Users\\matth\\AppData\\Local\\Programs\\Python\\Python311\\Lib\\site-packages\\sklearn\\metrics\\_classification.py:1471: UndefinedMetricWarning: Precision and F-score are ill-defined and being set to 0.0 in labels with no predicted samples. Use `zero_division` parameter to control this behavior.\n",
      "  _warn_prf(average, modifier, msg_start, len(result))\n",
      "c:\\Users\\matth\\AppData\\Local\\Programs\\Python\\Python311\\Lib\\site-packages\\sklearn\\metrics\\_classification.py:1471: UndefinedMetricWarning: Precision and F-score are ill-defined and being set to 0.0 in labels with no predicted samples. Use `zero_division` parameter to control this behavior.\n",
      "  _warn_prf(average, modifier, msg_start, len(result))\n",
      "c:\\Users\\matth\\AppData\\Local\\Programs\\Python\\Python311\\Lib\\site-packages\\sklearn\\metrics\\_classification.py:1471: UndefinedMetricWarning: Precision and F-score are ill-defined and being set to 0.0 in labels with no predicted samples. Use `zero_division` parameter to control this behavior.\n",
      "  _warn_prf(average, modifier, msg_start, len(result))\n"
     ]
    }
   ],
   "source": [
    "report = classification_report(df_test.loc[:,\"labels\"],grouped_sentences.loc[highest_indices.flatten(),'labels'].reset_index(drop=True))\n",
    "print(report)"
   ]
  },
  {
   "cell_type": "code",
   "execution_count": 310,
   "metadata": {},
   "outputs": [
    {
     "data": {
      "image/png": "[encoded data removed]",
      "text/plain": [
       "<Figure size 640x480 with 2 Axes>"
      ]
     },
     "metadata": {},
     "output_type": "display_data"
    }
   ],
   "source": [
    "cm = confusion_matrix(df_test.loc[:,\"labels\"],grouped_sentences.loc[highest_indices.flatten(),'labels'].reset_index(drop=True))\n",
    "df_cm = pd.DataFrame(cm, index=list(range(12)), columns=list(range(12)))\n",
    "\n",
    "sn.set(font_scale=1)\n",
    "sn.heatmap(df_cm, annot=True, annot_kws={\"size\": 8}, cmap='coolwarm', linewidth=0.5)\n",
    "plt.show()"
   ]
  },
  {
   "cell_type": "markdown",
   "metadata": {},
   "source": [
    "### Embedding"
   ]
  },
  {
   "cell_type": "code",
   "execution_count": 283,
   "metadata": {},
   "outputs": [],
   "source": [
    "from sentence_transformers import SentenceTransformer\n",
    "model = SentenceTransformer(embedding)"
   ]
  },
  {
   "cell_type": "code",
   "execution_count": 284,
   "metadata": {},
   "outputs": [],
   "source": [
    "# batch_size=12, normalize_embeddings=True \n",
    "embeddings_test = model.encode(list(df_test[\"sentences\"]))\n",
    "embedding_train = model.encode(list(df_train_plus['sentences']))\n",
    "\n",
    "results1 = cosine_similarity(embedding_train,embeddings_test).transpose()"
   ]
  },
  {
   "cell_type": "code",
   "execution_count": 290,
   "metadata": {},
   "outputs": [],
   "source": [
    "highest_indices = np.argsort(results1)[:,-25:]\n",
    "result1 = []\n",
    "for i in range(len(highest_indices)):\n",
    "    highest_indices[i] = df_train_plus.loc[highest_indices[i],'labels']\n",
    "    result1.append(most_common_element(highest_indices[i]))"
   ]
  },
  {
   "cell_type": "code",
   "execution_count": 291,
   "metadata": {},
   "outputs": [
    {
     "data": {
      "text/plain": [
       "0.635"
      ]
     },
     "execution_count": 291,
     "metadata": {},
     "output_type": "execute_result"
    }
   ],
   "source": [
    "np.mean(result1==df_test.labels)"
   ]
  },
  {
   "cell_type": "code",
   "execution_count": 292,
   "metadata": {},
   "outputs": [
    {
     "data": {
      "text/plain": [
       "6     33\n",
       "5     26\n",
       "2     25\n",
       "7     22\n",
       "9     18\n",
       "3     17\n",
       "10    16\n",
       "4     16\n",
       "1     12\n",
       "11     9\n",
       "8      6\n",
       "Name: count, dtype: int64"
      ]
     },
     "execution_count": 292,
     "metadata": {},
     "output_type": "execute_result"
    }
   ],
   "source": [
    "pd.Series(result1).value_counts()"
   ]
  },
  {
   "cell_type": "code",
   "execution_count": 293,
   "metadata": {},
   "outputs": [
    {
     "name": "stdout",
     "output_type": "stream",
     "text": [
      "              precision    recall  f1-score   support\n",
      "\n",
      "           0       0.00      0.00      0.00         9\n",
      "           1       0.83      0.38      0.53        26\n",
      "           2       0.60      0.79      0.68        19\n",
      "           3       0.29      0.50      0.37        10\n",
      "           4       0.44      0.64      0.52        11\n",
      "           5       0.50      0.87      0.63        15\n",
      "           6       0.70      0.72      0.71        32\n",
      "           7       0.82      1.00      0.90        18\n",
      "           8       0.50      0.23      0.32        13\n",
      "           9       0.78      0.78      0.78        18\n",
      "          10       0.62      0.67      0.65        15\n",
      "          11       1.00      0.64      0.78        14\n",
      "\n",
      "    accuracy                           0.64       200\n",
      "   macro avg       0.59      0.60      0.57       200\n",
      "weighted avg       0.65      0.64      0.62       200\n",
      "\n"
     ]
    },
    {
     "name": "stderr",
     "output_type": "stream",
     "text": [
      "c:\\Users\\matth\\AppData\\Local\\Programs\\Python\\Python311\\Lib\\site-packages\\sklearn\\metrics\\_classification.py:1471: UndefinedMetricWarning: Precision and F-score are ill-defined and being set to 0.0 in labels with no predicted samples. Use `zero_division` parameter to control this behavior.\n",
      "  _warn_prf(average, modifier, msg_start, len(result))\n",
      "c:\\Users\\matth\\AppData\\Local\\Programs\\Python\\Python311\\Lib\\site-packages\\sklearn\\metrics\\_classification.py:1471: UndefinedMetricWarning: Precision and F-score are ill-defined and being set to 0.0 in labels with no predicted samples. Use `zero_division` parameter to control this behavior.\n",
      "  _warn_prf(average, modifier, msg_start, len(result))\n",
      "c:\\Users\\matth\\AppData\\Local\\Programs\\Python\\Python311\\Lib\\site-packages\\sklearn\\metrics\\_classification.py:1471: UndefinedMetricWarning: Precision and F-score are ill-defined and being set to 0.0 in labels with no predicted samples. Use `zero_division` parameter to control this behavior.\n",
      "  _warn_prf(average, modifier, msg_start, len(result))\n"
     ]
    }
   ],
   "source": [
    "report = classification_report(df_test.loc[:,\"labels\"],pd.Series(result1))\n",
    "print(report)"
   ]
  },
  {
   "cell_type": "code",
   "execution_count": 294,
   "metadata": {},
   "outputs": [
    {
     "data": {
      "image/png": "[encoded data removed]",
      "text/plain": [
       "<Figure size 640x480 with 2 Axes>"
      ]
     },
     "metadata": {},
     "output_type": "display_data"
    }
   ],
   "source": [
    "cm = confusion_matrix(df_test.loc[:,\"labels\"],pd.Series(result1))\n",
    "df_cm = pd.DataFrame(cm, index=list(range(12)), columns=list(range(12)))\n",
    "\n",
    "sn.set(font_scale=1)\n",
    "sn.heatmap(df_cm, annot=True, annot_kws={\"size\": 8}, cmap='coolwarm', linewidth=0.5)\n",
    "plt.show()"
   ]
  },
  {
   "cell_type": "markdown",
   "metadata": {},
   "source": [
    "### Concat embedding"
   ]
  },
  {
   "cell_type": "code",
   "execution_count": 270,
   "metadata": {},
   "outputs": [],
   "source": [
    "# TODO this embedding does not take enough enough token to embedded the whole text -> we need another embedfin\n",
    "# and still cut the texts into smaller parts"
   ]
  },
  {
   "cell_type": "code",
   "execution_count": 327,
   "metadata": {},
   "outputs": [],
   "source": [
    "grouped_sentences = df_train_plus.groupby('labels')['sentences'].apply(lambda x: ' '.join(x)).reset_index()"
   ]
  },
  {
   "cell_type": "code",
   "execution_count": 328,
   "metadata": {},
   "outputs": [],
   "source": [
    "embeddings_test = model.encode(list(df_test[\"sentences\"]))\n",
    "embedding_train = model.encode(list(grouped_sentences['sentences']))\n",
    "\n",
    "results = cosine_similarity(embedding_train,embeddings_test).transpose()"
   ]
  },
  {
   "cell_type": "code",
   "execution_count": 329,
   "metadata": {},
   "outputs": [
    {
     "data": {
      "text/plain": [
       "labels\n",
       "True     107\n",
       "False     93\n",
       "Name: count, dtype: int64"
      ]
     },
     "execution_count": 329,
     "metadata": {},
     "output_type": "execute_result"
    }
   ],
   "source": [
    "(grouped_sentences.loc[np.argmax(results,axis=1),\"labels\"].reset_index(drop=True)==df_test.labels).value_counts()"
   ]
  },
  {
   "cell_type": "code",
   "execution_count": 330,
   "metadata": {},
   "outputs": [
    {
     "data": {
      "text/plain": [
       "labels\n",
       "1     38\n",
       "7     31\n",
       "6     24\n",
       "3     23\n",
       "5     19\n",
       "8     15\n",
       "10    14\n",
       "4     12\n",
       "2     10\n",
       "11     8\n",
       "9      6\n",
       "Name: count, dtype: int64"
      ]
     },
     "execution_count": 330,
     "metadata": {},
     "output_type": "execute_result"
    }
   ],
   "source": [
    "grouped_sentences.loc[np.argmax(results,axis=1),'labels'].reset_index(drop=True).value_counts()"
   ]
  },
  {
   "cell_type": "code",
   "execution_count": 331,
   "metadata": {},
   "outputs": [
    {
     "name": "stdout",
     "output_type": "stream",
     "text": [
      "              precision    recall  f1-score   support\n",
      "\n",
      "           0       0.00      0.00      0.00         9\n",
      "           1       0.45      0.65      0.53        26\n",
      "           2       0.70      0.37      0.48        19\n",
      "           3       0.26      0.60      0.36        10\n",
      "           4       0.50      0.55      0.52        11\n",
      "           5       0.68      0.87      0.76        15\n",
      "           6       0.67      0.50      0.57        32\n",
      "           7       0.58      1.00      0.73        18\n",
      "           8       0.60      0.69      0.64        13\n",
      "           9       0.67      0.22      0.33        18\n",
      "          10       0.57      0.53      0.55        15\n",
      "          11       0.38      0.21      0.27        14\n",
      "\n",
      "    accuracy                           0.54       200\n",
      "   macro avg       0.50      0.52      0.48       200\n",
      "weighted avg       0.54      0.54      0.51       200\n",
      "\n"
     ]
    },
    {
     "name": "stderr",
     "output_type": "stream",
     "text": [
      "c:\\Users\\matth\\AppData\\Local\\Programs\\Python\\Python311\\Lib\\site-packages\\sklearn\\metrics\\_classification.py:1471: UndefinedMetricWarning: Precision and F-score are ill-defined and being set to 0.0 in labels with no predicted samples. Use `zero_division` parameter to control this behavior.\n",
      "  _warn_prf(average, modifier, msg_start, len(result))\n",
      "c:\\Users\\matth\\AppData\\Local\\Programs\\Python\\Python311\\Lib\\site-packages\\sklearn\\metrics\\_classification.py:1471: UndefinedMetricWarning: Precision and F-score are ill-defined and being set to 0.0 in labels with no predicted samples. Use `zero_division` parameter to control this behavior.\n",
      "  _warn_prf(average, modifier, msg_start, len(result))\n",
      "c:\\Users\\matth\\AppData\\Local\\Programs\\Python\\Python311\\Lib\\site-packages\\sklearn\\metrics\\_classification.py:1471: UndefinedMetricWarning: Precision and F-score are ill-defined and being set to 0.0 in labels with no predicted samples. Use `zero_division` parameter to control this behavior.\n",
      "  _warn_prf(average, modifier, msg_start, len(result))\n"
     ]
    }
   ],
   "source": [
    "report = classification_report(df_test.loc[:,\"labels\"],grouped_sentences.loc[np.argmax(results,axis=1),\"labels\"].reset_index(drop=True))\n",
    "print(report)"
   ]
  },
  {
   "cell_type": "code",
   "execution_count": 332,
   "metadata": {},
   "outputs": [
    {
     "data": {
      "image/png": "[encoded data removed]",
      "text/plain": [
       "<Figure size 640x480 with 2 Axes>"
      ]
     },
     "metadata": {},
     "output_type": "display_data"
    }
   ],
   "source": [
    "cm = confusion_matrix(df_test.loc[:,\"labels\"],grouped_sentences.loc[np.argmax(results,axis=1),\"labels\"].reset_index(drop=True))\n",
    "df_cm = pd.DataFrame(cm, index=list(range(12)), columns=list(range(12)))\n",
    "\n",
    "sn.set(font_scale=1)\n",
    "sn.heatmap(df_cm, annot=True, annot_kws={\"size\": 8}, cmap='coolwarm', linewidth=0.5)\n",
    "plt.show()"
   ]
  },
  {
   "cell_type": "markdown",
   "metadata": {},
   "source": [
    "### Combine several models"
   ]
  },
  {
   "cell_type": "code",
   "execution_count": 301,
   "metadata": {},
   "outputs": [
    {
     "name": "stdout",
     "output_type": "stream",
     "text": [
      "[2, 2, 2, 5] 2\n",
      "[6, 2, 1, 1] 6\n",
      "[2, 2, 10, 10] 8\n",
      "[2, 2, 2, 5] 2\n",
      "[8, 7, 10, 5] 10\n",
      "[10, 7, 7, 8] 10\n",
      "[2, 2, 5, 11] 2\n",
      "[3, 2, 6, 8] 2\n",
      "[7, 7, 7, 5] 7\n",
      "[5, 2, 5, 5] 11\n",
      "[4, 2, 10, 10] 1\n",
      "[11, 2, 11, 11] 11\n",
      "[10, 10, 10, 10] 10\n",
      "[7, 7, 7, 5] 7\n",
      "[11, 2, 11, 11] 11\n",
      "[5, 5, 5, 5] 5\n",
      "[4, 2, 10, 10] 4\n",
      "[8, 2, 8, 1] 8\n",
      "[6, 4, 4, 10] 6\n",
      "[3, 1, 1, 4] 1\n",
      "[7, 2, 6, 10] 0\n",
      "[6, 6, 6, 6] 6\n",
      "[6, 2, 1, 1] 6\n",
      "[3, 1, 9, 11] 3\n",
      "[5, 9, 1, 1] 1\n",
      "[5, 2, 3, 9] 11\n",
      "[9, 9, 9, 7] 0\n",
      "[11, 2, 11, 5] 11\n",
      "[11, 2, 2, 2] 11\n",
      "[6, 6, 6, 1] 6\n",
      "[3, 1, 7, 11] 11\n",
      "[10, 5, 9, 10] 5\n",
      "[9, 2, 2, 10] 0\n",
      "[2, 2, 2, 5] 2\n",
      "[8, 2, 10, 10] 8\n",
      "[3, 2, 2, 5] 9\n",
      "[7, 7, 7, 10] 7\n",
      "[2, 2, 2, 2] 2\n",
      "[6, 2, 1, 11] 6\n",
      "[5, 2, 10, 10] 0\n",
      "[4, 10, 9, 11] 3\n",
      "[5, 11, 11, 5] 11\n",
      "[10, 3, 3, 3] 3\n",
      "[6, 6, 6, 6] 6\n",
      "[3, 3, 3, 3] 6\n",
      "[9, 2, 9, 7] 9\n",
      "[3, 2, 5, 5] 3\n",
      "[2, 2, 5, 5] 10\n",
      "[8, 3, 3, 3] 8\n",
      "[6, 6, 6, 6] 6\n",
      "[4, 2, 10, 4] 4\n",
      "[5, 2, 5, 5] 5\n",
      "[10, 3, 3, 10] 3\n",
      "[11, 11, 11, 11] 11\n",
      "[6, 6, 6, 5] 10\n",
      "[4, 9, 9, 9] 1\n",
      "[9, 3, 10, 9] 9\n",
      "[10, 10, 10, 10] 10\n",
      "[9, 2, 1, 1] 9\n",
      "[9, 9, 9, 9] 9\n",
      "[5, 5, 5, 5] 5\n",
      "[1, 2, 2, 2] 1\n",
      "[5, 5, 5, 5] 5\n",
      "[2, 2, 5, 5] 3\n",
      "[7, 7, 7, 1] 7\n",
      "[4, 1, 9, 11] 3\n",
      "[9, 2, 9, 3] 9\n",
      "[6, 1, 1, 6] 1\n",
      "[9, 2, 9, 9] 9\n",
      "[1, 1, 1, 1] 1\n",
      "[5, 2, 5, 5] 5\n",
      "[1, 2, 6, 1] 1\n",
      "[10, 2, 1, 11] 10\n",
      "[4, 4, 6, 9] 1\n",
      "[6, 1, 1, 10] 6\n",
      "[2, 2, 2, 2] 2\n",
      "[4, 2, 10, 4] 4\n",
      "[10, 2, 7, 5] 0\n",
      "[9, 2, 10, 10] 9\n",
      "[9, 1, 1, 1] 8\n",
      "[7, 7, 7, 6] 7\n",
      "[2, 3, 3, 9] 9\n",
      "[5, 2, 5, 5] 6\n",
      "[2, 2, 2, 1] 2\n",
      "[1, 2, 2, 3] 1\n",
      "[11, 2, 10, 8] 11\n",
      "[3, 1, 1, 1] 1\n",
      "[5, 2, 10, 5] 8\n",
      "[5, 2, 5, 11] 2\n",
      "[2, 10, 10, 5] 6\n",
      "[8, 8, 8, 8] 1\n",
      "[10, 2, 6, 6] 10\n",
      "[1, 4, 1, 1] 1\n",
      "[7, 7, 7, 1] 7\n",
      "[2, 2, 10, 10] 8\n",
      "[6, 2, 10, 7] 10\n",
      "[2, 2, 2, 11] 2\n",
      "[4, 2, 7, 4] 4\n",
      "[5, 2, 5, 10] 8\n",
      "[6, 2, 1, 1] 8\n",
      "[9, 2, 6, 9] 9\n",
      "[3, 2, 2, 3] 1\n",
      "[10, 2, 11, 11] 11\n",
      "[2, 2, 7, 3] 2\n",
      "[6, 2, 1, 1] 8\n",
      "[11, 2, 11, 10] 11\n",
      "[5, 5, 5, 1] 5\n",
      "[3, 1, 9, 11] 9\n",
      "[5, 2, 5, 5] 5\n",
      "[6, 2, 10, 4] 4\n",
      "[6, 4, 4, 4] 6\n",
      "[7, 7, 7, 5] 6\n",
      "[3, 2, 1, 11] 6\n",
      "[2, 3, 3, 5] 10\n",
      "[7, 7, 7, 5] 7\n",
      "[3, 2, 7, 11] 0\n",
      "[9, 9, 9, 5] 9\n",
      "[6, 2, 5, 5] 6\n",
      "[2, 1, 1, 1] 4\n",
      "[6, 1, 1, 5] 6\n",
      "[6, 2, 6, 10] 6\n",
      "[4, 1, 1, 1] 4\n",
      "[6, 2, 6, 10] 0\n",
      "[9, 1, 1, 3] 9\n",
      "[2, 2, 1, 11] 2\n",
      "[4, 2, 5, 5] 4\n",
      "[6, 6, 6, 1] 1\n",
      "[5, 2, 5, 2] 5\n",
      "[3, 2, 2, 9] 0\n",
      "[5, 5, 5, 5] 5\n",
      "[6, 6, 6, 10] 6\n",
      "[5, 1, 1, 1] 1\n",
      "[1, 2, 9, 7] 1\n",
      "[5, 1, 1, 5] 1\n",
      "[11, 11, 11, 11] 11\n",
      "[1, 2, 6, 1] 1\n",
      "[2, 2, 2, 1] 2\n",
      "[4, 2, 10, 4] 1\n",
      "[3, 2, 5, 5] 3\n",
      "[10, 2, 2, 8] 10\n",
      "[9, 11, 9, 9] 9\n",
      "[7, 7, 7, 7] 7\n",
      "[2, 2, 2, 10] 2\n",
      "[7, 6, 6, 5] 6\n",
      "[2, 1, 2, 2] 2\n",
      "[6, 2, 1, 11] 6\n",
      "[10, 10, 10, 10] 10\n",
      "[2, 2, 2, 2] 2\n",
      "[11, 11, 11, 11] 11\n",
      "[4, 2, 5, 5] 6\n",
      "[7, 7, 7, 7] 7\n",
      "[6, 9, 9, 7] 9\n",
      "[7, 7, 7, 7] 7\n",
      "[7, 7, 7, 7] 6\n",
      "[9, 11, 11, 9] 9\n",
      "[10, 2, 6, 11] 10\n",
      "[3, 2, 3, 3] 3\n",
      "[7, 7, 6, 5] 7\n",
      "[1, 2, 10, 10] 8\n",
      "[7, 7, 7, 5] 7\n",
      "[10, 2, 8, 8] 10\n",
      "[5, 5, 5, 5] 5\n",
      "[3, 2, 3, 5] 3\n",
      "[5, 2, 5, 5] 5\n",
      "[6, 6, 6, 6] 6\n",
      "[6, 2, 1, 11] 6\n",
      "[5, 5, 5, 5] 2\n",
      "[10, 2, 10, 10] 8\n",
      "[2, 2, 10, 1] 8\n",
      "[6, 2, 1, 11] 6\n",
      "[7, 7, 7, 10] 7\n",
      "[9, 2, 6, 11] 9\n",
      "[4, 2, 4, 4] 4\n",
      "[1, 1, 1, 1] 1\n",
      "[9, 11, 11, 11] 9\n",
      "[7, 7, 7, 10] 7\n",
      "[1, 2, 5, 5] 4\n",
      "[6, 2, 6, 11] 6\n",
      "[9, 9, 9, 9] 0\n",
      "[8, 2, 5, 5] 1\n",
      "[6, 1, 1, 1] 6\n",
      "[4, 2, 1, 4] 1\n",
      "[7, 7, 7, 5] 7\n",
      "[6, 4, 4, 5] 6\n",
      "[1, 1, 1, 1] 1\n",
      "[7, 7, 7, 7] 7\n",
      "[5, 5, 5, 5] 5\n",
      "[10, 2, 9, 9] 10\n",
      "[6, 2, 7, 3] 2\n",
      "[2, 5, 5, 5] 5\n",
      "[7, 7, 7, 1] 7\n",
      "[5, 5, 5, 2] 5\n",
      "[6, 2, 6, 6] 6\n",
      "[1, 1, 1, 1] 1\n",
      "[6, 2, 6, 1] 6\n",
      "[5, 9, 9, 9] 1\n",
      "[3, 2, 5, 5] 4\n",
      "[2, 2, 2, 1] 2\n",
      "[4, 4, 6, 4] 6\n",
      "[7, 7, 7, 5] 7\n"
     ]
    }
   ],
   "source": [
    "\n",
    "# rank list_of_preds in ascending order according to the confidence that you want to give to the voter\n",
    "# beforr putting it in the function\n",
    "\n",
    "def aggregate_voter(list_of_preds,testset):\n",
    "    assembly_result = []\n",
    "    for i in range(len(testset)):\n",
    "        print([voter[i] for voter in list_of_preds],testset[i],print([voter[i] for voter in list_of_preds],testset[i],most_common_element([voter[i] for voter in list_of_preds]))\n",
    ")\n",
    "        assembly_result.append(most_common_element([voter[i] for voter in list_of_preds]))\n",
    "      \n",
    "    return assembly_result\n",
    "\n",
    "liste_of_preds = [result1,predicted2,predicted_label1,result]\n",
    "testset = df_test.loc[:,\"labels\"]\n",
    "final_model = aggregate_voter(liste_of_preds,testset)\n",
    "\n"
   ]
  },
  {
   "cell_type": "code",
   "execution_count": 300,
   "metadata": {},
   "outputs": [
    {
     "name": "stdout",
     "output_type": "stream",
     "text": [
      "              precision    recall  f1-score   support\n",
      "\n",
      "           0       0.00      0.00      0.00         9\n",
      "           1       0.50      0.46      0.48        26\n",
      "           2       0.56      0.79      0.65        19\n",
      "           3       0.29      0.40      0.33        10\n",
      "           4       0.31      0.36      0.33        11\n",
      "           5       0.45      0.93      0.61        15\n",
      "           6       0.65      0.47      0.55        32\n",
      "           7       0.82      1.00      0.90        18\n",
      "           8       0.25      0.08      0.12        13\n",
      "           9       0.69      0.61      0.65        18\n",
      "          10       0.31      0.33      0.32        15\n",
      "          11       0.90      0.64      0.75        14\n",
      "\n",
      "    accuracy                           0.54       200\n",
      "   macro avg       0.48      0.51      0.47       200\n",
      "weighted avg       0.53      0.54      0.52       200\n",
      "\n"
     ]
    },
    {
     "name": "stderr",
     "output_type": "stream",
     "text": [
      "c:\\Users\\matth\\AppData\\Local\\Programs\\Python\\Python311\\Lib\\site-packages\\sklearn\\metrics\\_classification.py:1471: UndefinedMetricWarning: Precision and F-score are ill-defined and being set to 0.0 in labels with no predicted samples. Use `zero_division` parameter to control this behavior.\n",
      "  _warn_prf(average, modifier, msg_start, len(result))\n",
      "c:\\Users\\matth\\AppData\\Local\\Programs\\Python\\Python311\\Lib\\site-packages\\sklearn\\metrics\\_classification.py:1471: UndefinedMetricWarning: Precision and F-score are ill-defined and being set to 0.0 in labels with no predicted samples. Use `zero_division` parameter to control this behavior.\n",
      "  _warn_prf(average, modifier, msg_start, len(result))\n",
      "c:\\Users\\matth\\AppData\\Local\\Programs\\Python\\Python311\\Lib\\site-packages\\sklearn\\metrics\\_classification.py:1471: UndefinedMetricWarning: Precision and F-score are ill-defined and being set to 0.0 in labels with no predicted samples. Use `zero_division` parameter to control this behavior.\n",
      "  _warn_prf(average, modifier, msg_start, len(result))\n"
     ]
    }
   ],
   "source": [
    "report = classification_report(df_test.loc[:,\"labels\"],pd.Series(final_model))\n",
    "print(report)"
   ]
  },
  {
   "cell_type": "code",
   "execution_count": 299,
   "metadata": {},
   "outputs": [
    {
     "data": {
      "image/png": "[encoded data removed]",
      "text/plain": [
       "<Figure size 640x480 with 2 Axes>"
      ]
     },
     "metadata": {},
     "output_type": "display_data"
    }
   ],
   "source": [
    "cm = confusion_matrix(df_test.loc[:,\"labels\"],final_model)\n",
    "df_cm = pd.DataFrame(cm, index=list(range(12)), columns=list(range(12)))\n",
    "\n",
    "sn.set(font_scale=1)\n",
    "sn.heatmap(df_cm, annot=True, annot_kws={\"size\": 8}, cmap='coolwarm', linewidth=0.5)\n",
    "plt.show()"
   ]
  }
 ],
 "metadata": {
  "kernelspec": {
   "display_name": "Python 3",
   "language": "python",
   "name": "python3"
  },
  "language_info": {
   "codemirror_mode": {
    "name": "ipython",
    "version": 3
   },
   "file_extension": ".py",
   "mimetype": "text/x-python",
   "name": "python",
   "nbconvert_exporter": "python",
   "pygments_lexer": "ipython3",
   "version": "3.11.7"
  }
 },
 "nbformat": 4,
 "nbformat_minor": 2
}

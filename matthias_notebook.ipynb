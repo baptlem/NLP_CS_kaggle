{
 "cells": [
  {
   "cell_type": "code",
   "execution_count": 13,
   "metadata": {},
   "outputs": [],
   "source": [
    "from sklearn.feature_extraction.text import TfidfVectorizer\n",
    "from sklearn.metrics import classification_report, confusion_matrix\n",
    "from sklearn.metrics.pairwise import cosine_similarity\n",
    "import matplotlib.pyplot as plt\n",
    "import seaborn as sn\n",
    "import numpy as np\n",
    "import pandas as pd"
   ]
  },
  {
   "cell_type": "code",
   "execution_count": 2,
   "metadata": {},
   "outputs": [
    {
     "name": "stdout",
     "output_type": "stream",
     "text": [
      "(11880, 2) (200, 2)\n"
     ]
    },
    {
     "data": {
      "text/html": [
       "<div>\n",
       "<style scoped>\n",
       "    .dataframe tbody tr th:only-of-type {\n",
       "        vertical-align: middle;\n",
       "    }\n",
       "\n",
       "    .dataframe tbody tr th {\n",
       "        vertical-align: top;\n",
       "    }\n",
       "\n",
       "    .dataframe thead th {\n",
       "        text-align: right;\n",
       "    }\n",
       "</style>\n",
       "<table border=\"1\" class=\"dataframe\">\n",
       "  <thead>\n",
       "    <tr style=\"text-align: right;\">\n",
       "      <th></th>\n",
       "      <th>labels</th>\n",
       "      <th>sentences</th>\n",
       "    </tr>\n",
       "  </thead>\n",
       "  <tbody>\n",
       "    <tr>\n",
       "      <th>0</th>\n",
       "      <td>2</td>\n",
       "      <td>The role of credit scores in lending decisions...</td>\n",
       "    </tr>\n",
       "    <tr>\n",
       "      <th>1</th>\n",
       "      <td>6</td>\n",
       "      <td>The impact of overpopulation on the environmen...</td>\n",
       "    </tr>\n",
       "    <tr>\n",
       "      <th>2</th>\n",
       "      <td>8</td>\n",
       "      <td>The importance of the scientific method in con...</td>\n",
       "    </tr>\n",
       "    <tr>\n",
       "      <th>3</th>\n",
       "      <td>2</td>\n",
       "      <td>The startup accelerator provides funding and m...</td>\n",
       "    </tr>\n",
       "    <tr>\n",
       "      <th>4</th>\n",
       "      <td>10</td>\n",
       "      <td>The benefits of biomimicry are many, including...</td>\n",
       "    </tr>\n",
       "  </tbody>\n",
       "</table>\n",
       "</div>"
      ],
      "text/plain": [
       "   labels                                          sentences\n",
       "0       2  The role of credit scores in lending decisions...\n",
       "1       6  The impact of overpopulation on the environmen...\n",
       "2       8  The importance of the scientific method in con...\n",
       "3       2  The startup accelerator provides funding and m...\n",
       "4      10  The benefits of biomimicry are many, including..."
      ]
     },
     "execution_count": 2,
     "metadata": {},
     "output_type": "execute_result"
    }
   ],
   "source": [
    "df_train_plus = pd.read_csv(\"data/train_set_3103.txt\",names=['labels','sentences'],sep='\\t')\n",
    "df_test = pd.read_csv(\"data/annotated_test.txt\", sep=';',names=['labels','sentences'])\n",
    "print(df_train_plus.shape,df_test.shape)\n",
    "df_test.head()"
   ]
  },
  {
   "cell_type": "code",
   "execution_count": 3,
   "metadata": {},
   "outputs": [],
   "source": [
    "def most_common_element(lst):\n",
    "    counts = {}\n",
    "    for element in lst:\n",
    "        if element in counts:\n",
    "            counts[element] += 1\n",
    "        else:\n",
    "            counts[element] = 1\n",
    "    max_count = max(counts.values())\n",
    "    most_common_elements = [key for key, value in counts.items() if value == max_count]\n",
    "\n",
    "    most_common_element = None\n",
    "    for element in lst:\n",
    "        if element in most_common_elements:\n",
    "            most_common_element = element\n",
    "            break\n",
    "    \n",
    "    return most_common_element"
   ]
  },
  {
   "cell_type": "code",
   "execution_count": 217,
   "metadata": {},
   "outputs": [
    {
     "data": {
      "text/plain": [
       "labels\n",
       "6     32\n",
       "1     26\n",
       "2     19\n",
       "7     18\n",
       "9     18\n",
       "10    15\n",
       "5     15\n",
       "11    14\n",
       "8     13\n",
       "4     11\n",
       "3     10\n",
       "0      9\n",
       "Name: count, dtype: int64"
      ]
     },
     "execution_count": 217,
     "metadata": {},
     "output_type": "execute_result"
    }
   ],
   "source": [
    "df_test.labels.value_counts()\n",
    "# TODO maybe rebalance the testset?"
   ]
  },
  {
   "cell_type": "markdown",
   "metadata": {},
   "source": [
    "### tf-idf improved"
   ]
  },
  {
   "cell_type": "code",
   "execution_count": null,
   "metadata": {},
   "outputs": [],
   "source": [
    "# knn approaches are not adding a lot of because the data is not diverse enough"
   ]
  },
  {
   "cell_type": "code",
   "execution_count": 32,
   "metadata": {},
   "outputs": [],
   "source": [
    "vectorizer = TfidfVectorizer()\n",
    "X = vectorizer.fit_transform(df_train_plus['sentences'])"
   ]
  },
  {
   "cell_type": "code",
   "execution_count": 33,
   "metadata": {},
   "outputs": [],
   "source": [
    "query_vec = vectorizer.transform(df_test.loc[:,\"sentences\"])\n",
    "results = cosine_similarity(X,query_vec).transpose()"
   ]
  },
  {
   "cell_type": "code",
   "execution_count": 34,
   "metadata": {},
   "outputs": [],
   "source": [
    "highest_indices = np.argsort(results)[:,-3:]"
   ]
  },
  {
   "cell_type": "code",
   "execution_count": 35,
   "metadata": {},
   "outputs": [],
   "source": [
    "result = []\n",
    "for i in range(len(highest_indices)):\n",
    "    highest_indices[i] = df_train_plus.loc[highest_indices[i],'labels']\n",
    "    result.append(most_common_element(highest_indices[i]))"
   ]
  },
  {
   "cell_type": "code",
   "execution_count": 36,
   "metadata": {},
   "outputs": [
    {
     "data": {
      "text/plain": [
       "labels\n",
       "False    151\n",
       "True      49\n",
       "Name: count, dtype: int64"
      ]
     },
     "execution_count": 36,
     "metadata": {},
     "output_type": "execute_result"
    }
   ],
   "source": [
    "(result==df_test.loc[:,\"labels\"]).value_counts()"
   ]
  },
  {
   "cell_type": "code",
   "execution_count": 37,
   "metadata": {},
   "outputs": [
    {
     "data": {
      "text/plain": [
       "0     42\n",
       "5     34\n",
       "1     31\n",
       "2     18\n",
       "7     13\n",
       "11    12\n",
       "6     11\n",
       "10    10\n",
       "3      9\n",
       "4      8\n",
       "8      6\n",
       "9      6\n",
       "Name: count, dtype: int64"
      ]
     },
     "execution_count": 37,
     "metadata": {},
     "output_type": "execute_result"
    }
   ],
   "source": [
    "pd.Series(result).value_counts()"
   ]
  },
  {
   "cell_type": "code",
   "execution_count": 38,
   "metadata": {},
   "outputs": [
    {
     "name": "stdout",
     "output_type": "stream",
     "text": [
      "              precision    recall  f1-score   support\n",
      "\n",
      "           0       0.02      0.11      0.04         9\n",
      "           1       0.42      0.50      0.46        26\n",
      "           2       0.22      0.21      0.22        19\n",
      "           3       0.00      0.00      0.00        10\n",
      "           4       0.12      0.09      0.11        11\n",
      "           5       0.24      0.53      0.33        15\n",
      "           6       0.45      0.16      0.23        32\n",
      "           7       0.38      0.28      0.32        18\n",
      "           8       0.33      0.15      0.21        13\n",
      "           9       0.67      0.22      0.33        18\n",
      "          10       0.30      0.20      0.24        15\n",
      "          11       0.25      0.21      0.23        14\n",
      "\n",
      "    accuracy                           0.24       200\n",
      "   macro avg       0.28      0.22      0.23       200\n",
      "weighted avg       0.33      0.24      0.26       200\n",
      "\n"
     ]
    }
   ],
   "source": [
    "report = classification_report(df_test.loc[:,\"labels\"],pd.Series(result))\n",
    "print(report)"
   ]
  },
  {
   "cell_type": "code",
   "execution_count": 39,
   "metadata": {},
   "outputs": [
    {
     "data": {
      "image/png": "[encoded data removed]",
      "text/plain": [
       "<Figure size 640x480 with 2 Axes>"
      ]
     },
     "metadata": {},
     "output_type": "display_data"
    }
   ],
   "source": [
    "cm = confusion_matrix(df_test.loc[:,\"labels\"],pd.Series(result))\n",
    "df_cm = pd.DataFrame(cm, index=list(range(12)), columns=list(range(12)))\n",
    "\n",
    "sn.set(font_scale=1)\n",
    "sn.heatmap(df_cm, annot=True, annot_kws={\"size\": 8}, cmap='coolwarm', linewidth=0.5)\n",
    "plt.show()"
   ]
  },
  {
   "cell_type": "markdown",
   "metadata": {},
   "source": [
    "### Concat tf-idf"
   ]
  },
  {
   "cell_type": "code",
   "execution_count": 40,
   "metadata": {},
   "outputs": [],
   "source": [
    "grouped_sentences = df_train_plus.groupby('labels')['sentences'].apply(lambda x: ' '.join(x)).reset_index()"
   ]
  },
  {
   "cell_type": "code",
   "execution_count": 41,
   "metadata": {},
   "outputs": [],
   "source": [
    "vectorizer = TfidfVectorizer()\n",
    "X = vectorizer.fit_transform(grouped_sentences['sentences'])"
   ]
  },
  {
   "cell_type": "code",
   "execution_count": 42,
   "metadata": {},
   "outputs": [],
   "source": [
    "query_vec = vectorizer.transform(df_test.loc[:,\"sentences\"])\n",
    "results = cosine_similarity(X,query_vec).transpose()\n",
    "highest_indices = np.argsort(results)[:,-1:]"
   ]
  },
  {
   "cell_type": "code",
   "execution_count": 43,
   "metadata": {},
   "outputs": [
    {
     "data": {
      "text/plain": [
       "labels\n",
       "False    121\n",
       "True      79\n",
       "Name: count, dtype: int64"
      ]
     },
     "execution_count": 43,
     "metadata": {},
     "output_type": "execute_result"
    }
   ],
   "source": [
    "(grouped_sentences.loc[highest_indices.flatten(),'labels'].reset_index(drop=True)==df_test.loc[:,\"labels\"]).value_counts()"
   ]
  },
  {
   "cell_type": "code",
   "execution_count": 44,
   "metadata": {},
   "outputs": [
    {
     "data": {
      "text/plain": [
       "labels\n",
       "11    68\n",
       "1     32\n",
       "5     27\n",
       "0     22\n",
       "7     21\n",
       "6     11\n",
       "3      8\n",
       "10     5\n",
       "2      4\n",
       "4      1\n",
       "9      1\n",
       "Name: count, dtype: int64"
      ]
     },
     "execution_count": 44,
     "metadata": {},
     "output_type": "execute_result"
    }
   ],
   "source": [
    "grouped_sentences.loc[highest_indices.flatten(),'labels'].reset_index(drop=True).value_counts()"
   ]
  },
  {
   "cell_type": "code",
   "execution_count": 48,
   "metadata": {},
   "outputs": [
    {
     "name": "stdout",
     "output_type": "stream",
     "text": [
      "              precision    recall  f1-score   support\n",
      "\n",
      "           0       0.23      0.56      0.32         9\n",
      "           1       0.56      0.69      0.62        26\n",
      "           2       1.00      0.21      0.35        19\n",
      "           3       0.12      0.10      0.11        10\n",
      "           4       0.00      0.00      0.00        11\n",
      "           5       0.52      0.93      0.67        15\n",
      "           6       0.45      0.16      0.23        32\n",
      "           7       0.86      1.00      0.92        18\n",
      "           8       0.00      0.00      0.00        13\n",
      "           9       1.00      0.06      0.11        18\n",
      "          10       0.60      0.20      0.30        15\n",
      "          11       0.15      0.71      0.24        14\n",
      "\n",
      "    accuracy                           0.40       200\n",
      "   macro avg       0.46      0.38      0.32       200\n",
      "weighted avg       0.52      0.40      0.35       200\n",
      "\n"
     ]
    },
    {
     "name": "stderr",
     "output_type": "stream",
     "text": [
      "c:\\Users\\matth\\AppData\\Local\\Programs\\Python\\Python311\\Lib\\site-packages\\sklearn\\metrics\\_classification.py:1471: UndefinedMetricWarning: Precision and F-score are ill-defined and being set to 0.0 in labels with no predicted samples. Use `zero_division` parameter to control this behavior.\n",
      "  _warn_prf(average, modifier, msg_start, len(result))\n",
      "c:\\Users\\matth\\AppData\\Local\\Programs\\Python\\Python311\\Lib\\site-packages\\sklearn\\metrics\\_classification.py:1471: UndefinedMetricWarning: Precision and F-score are ill-defined and being set to 0.0 in labels with no predicted samples. Use `zero_division` parameter to control this behavior.\n",
      "  _warn_prf(average, modifier, msg_start, len(result))\n",
      "c:\\Users\\matth\\AppData\\Local\\Programs\\Python\\Python311\\Lib\\site-packages\\sklearn\\metrics\\_classification.py:1471: UndefinedMetricWarning: Precision and F-score are ill-defined and being set to 0.0 in labels with no predicted samples. Use `zero_division` parameter to control this behavior.\n",
      "  _warn_prf(average, modifier, msg_start, len(result))\n"
     ]
    }
   ],
   "source": [
    "report = classification_report(df_test.loc[:,\"labels\"],grouped_sentences.loc[highest_indices.flatten(),'labels'].reset_index(drop=True))\n",
    "print(report)"
   ]
  },
  {
   "cell_type": "code",
   "execution_count": 49,
   "metadata": {},
   "outputs": [
    {
     "data": {
      "image/png": "[encoded data removed]",
      "text/plain": [
       "<Figure size 640x480 with 2 Axes>"
      ]
     },
     "metadata": {},
     "output_type": "display_data"
    }
   ],
   "source": [
    "cm = confusion_matrix(df_test.loc[:,\"labels\"],grouped_sentences.loc[highest_indices.flatten(),'labels'].reset_index(drop=True))\n",
    "df_cm = pd.DataFrame(cm, index=list(range(12)), columns=list(range(12)))\n",
    "\n",
    "sn.set(font_scale=1)\n",
    "sn.heatmap(df_cm, annot=True, annot_kws={\"size\": 8}, cmap='coolwarm', linewidth=0.5)\n",
    "plt.show()"
   ]
  },
  {
   "cell_type": "markdown",
   "metadata": {},
   "source": [
    "### Embedding"
   ]
  },
  {
   "cell_type": "code",
   "execution_count": 54,
   "metadata": {},
   "outputs": [],
   "source": [
    "from sentence_transformers import SentenceTransformer\n",
    "model = SentenceTransformer('sentence-transformers/all-MiniLM-L6-v2')"
   ]
  },
  {
   "cell_type": "code",
   "execution_count": 55,
   "metadata": {},
   "outputs": [],
   "source": [
    "embeddings_test = model.encode(list(df_test[\"sentences\"]))\n",
    "embedding_train = model.encode(list(df_train_plus['sentences']))\n",
    "\n",
    "results = cosine_similarity(embedding_train,embeddings_test).transpose()"
   ]
  },
  {
   "cell_type": "code",
   "execution_count": 56,
   "metadata": {},
   "outputs": [],
   "source": [
    "highest_indices = np.argsort(results)[:,-5:]\n",
    "result = []\n",
    "for i in range(len(highest_indices)):\n",
    "    highest_indices[i] = df_train_plus.loc[highest_indices[i],'labels']\n",
    "    result.append(most_common_element(highest_indices[i]))"
   ]
  },
  {
   "cell_type": "code",
   "execution_count": 58,
   "metadata": {},
   "outputs": [
    {
     "data": {
      "text/plain": [
       "labels\n",
       "True     130\n",
       "False     70\n",
       "Name: count, dtype: int64"
      ]
     },
     "execution_count": 58,
     "metadata": {},
     "output_type": "execute_result"
    }
   ],
   "source": [
    "(result==df_test.labels).value_counts()"
   ]
  },
  {
   "cell_type": "code",
   "execution_count": 61,
   "metadata": {},
   "outputs": [
    {
     "data": {
      "text/plain": [
       "6     40\n",
       "1     35\n",
       "7     20\n",
       "5     18\n",
       "0     17\n",
       "3     17\n",
       "2     13\n",
       "10    10\n",
       "11    10\n",
       "8      9\n",
       "9      7\n",
       "4      4\n",
       "Name: count, dtype: int64"
      ]
     },
     "execution_count": 61,
     "metadata": {},
     "output_type": "execute_result"
    }
   ],
   "source": [
    "pd.Series(result).value_counts()"
   ]
  },
  {
   "cell_type": "code",
   "execution_count": 63,
   "metadata": {},
   "outputs": [
    {
     "name": "stdout",
     "output_type": "stream",
     "text": [
      "              precision    recall  f1-score   support\n",
      "\n",
      "           0       0.47      0.89      0.62         9\n",
      "           1       0.51      0.69      0.59        26\n",
      "           2       0.85      0.58      0.69        19\n",
      "           3       0.35      0.60      0.44        10\n",
      "           4       0.00      0.00      0.00        11\n",
      "           5       0.72      0.87      0.79        15\n",
      "           6       0.70      0.88      0.78        32\n",
      "           7       0.90      1.00      0.95        18\n",
      "           8       0.44      0.31      0.36        13\n",
      "           9       1.00      0.39      0.56        18\n",
      "          10       0.80      0.53      0.64        15\n",
      "          11       0.90      0.64      0.75        14\n",
      "\n",
      "    accuracy                           0.65       200\n",
      "   macro avg       0.64      0.61      0.60       200\n",
      "weighted avg       0.68      0.65      0.64       200\n",
      "\n"
     ]
    }
   ],
   "source": [
    "report = classification_report(df_test.loc[:,\"labels\"],pd.Series(result))\n",
    "print(report)"
   ]
  },
  {
   "cell_type": "code",
   "execution_count": 64,
   "metadata": {},
   "outputs": [
    {
     "data": {
      "image/png": "[encoded data removed]",
      "text/plain": [
       "<Figure size 640x480 with 2 Axes>"
      ]
     },
     "metadata": {},
     "output_type": "display_data"
    }
   ],
   "source": [
    "cm = confusion_matrix(df_test.loc[:,\"labels\"],pd.Series(result))\n",
    "df_cm = pd.DataFrame(cm, index=list(range(12)), columns=list(range(12)))\n",
    "\n",
    "sn.set(font_scale=1)\n",
    "sn.heatmap(df_cm, annot=True, annot_kws={\"size\": 8}, cmap='coolwarm', linewidth=0.5)\n",
    "plt.show()"
   ]
  },
  {
   "cell_type": "markdown",
   "metadata": {},
   "source": [
    "### Concat embedding"
   ]
  },
  {
   "cell_type": "code",
   "execution_count": null,
   "metadata": {},
   "outputs": [],
   "source": [
    "# TODO this embedding does not take enough enough token to embedded the whole text -> we need another embedfin\n",
    "# and still cut the texts into smaller parts"
   ]
  },
  {
   "cell_type": "code",
   "execution_count": 65,
   "metadata": {},
   "outputs": [],
   "source": [
    "grouped_sentences = df_train_plus.groupby('labels')['sentences'].apply(lambda x: ' '.join(x)).reset_index()"
   ]
  },
  {
   "cell_type": "code",
   "execution_count": 66,
   "metadata": {},
   "outputs": [],
   "source": [
    "embeddings_test = model.encode(list(df_test[\"sentences\"]))\n",
    "embedding_train = model.encode(list(grouped_sentences['sentences']))\n",
    "\n",
    "results = cosine_similarity(embedding_train,embeddings_test).transpose()"
   ]
  },
  {
   "cell_type": "code",
   "execution_count": 67,
   "metadata": {},
   "outputs": [
    {
     "data": {
      "text/plain": [
       "labels\n",
       "True     107\n",
       "False     93\n",
       "Name: count, dtype: int64"
      ]
     },
     "execution_count": 67,
     "metadata": {},
     "output_type": "execute_result"
    }
   ],
   "source": [
    "(grouped_sentences.loc[np.argmax(results,axis=1),\"labels\"].reset_index(drop=True)==df_test.labels).value_counts()"
   ]
  },
  {
   "cell_type": "code",
   "execution_count": 68,
   "metadata": {},
   "outputs": [
    {
     "data": {
      "text/plain": [
       "labels\n",
       "1     31\n",
       "6     28\n",
       "7     27\n",
       "0     20\n",
       "3     20\n",
       "8     19\n",
       "5     15\n",
       "2     10\n",
       "11     9\n",
       "9      8\n",
       "10     7\n",
       "4      6\n",
       "Name: count, dtype: int64"
      ]
     },
     "execution_count": 68,
     "metadata": {},
     "output_type": "execute_result"
    }
   ],
   "source": [
    "grouped_sentences.loc[np.argmax(results,axis=1),'labels'].reset_index(drop=True).value_counts()"
   ]
  },
  {
   "cell_type": "code",
   "execution_count": 69,
   "metadata": {},
   "outputs": [
    {
     "name": "stdout",
     "output_type": "stream",
     "text": [
      "              precision    recall  f1-score   support\n",
      "\n",
      "           0       0.15      0.33      0.21         9\n",
      "           1       0.52      0.62      0.56        26\n",
      "           2       0.80      0.42      0.55        19\n",
      "           3       0.30      0.60      0.40        10\n",
      "           4       0.17      0.09      0.12        11\n",
      "           5       0.80      0.80      0.80        15\n",
      "           6       0.68      0.59      0.63        32\n",
      "           7       0.67      1.00      0.80        18\n",
      "           8       0.47      0.69      0.56        13\n",
      "           9       0.75      0.33      0.46        18\n",
      "          10       0.57      0.27      0.36        15\n",
      "          11       0.56      0.36      0.43        14\n",
      "\n",
      "    accuracy                           0.54       200\n",
      "   macro avg       0.54      0.51      0.49       200\n",
      "weighted avg       0.58      0.54      0.53       200\n",
      "\n"
     ]
    }
   ],
   "source": [
    "report = classification_report(df_test.loc[:,\"labels\"],grouped_sentences.loc[np.argmax(results,axis=1),\"labels\"].reset_index(drop=True))\n",
    "print(report)"
   ]
  },
  {
   "cell_type": "code",
   "execution_count": 70,
   "metadata": {},
   "outputs": [
    {
     "data": {
      "image/png": "[encoded data removed]",
      "text/plain": [
       "<Figure size 640x480 with 2 Axes>"
      ]
     },
     "metadata": {},
     "output_type": "display_data"
    }
   ],
   "source": [
    "cm = confusion_matrix(df_test.loc[:,\"labels\"],grouped_sentences.loc[np.argmax(results,axis=1),\"labels\"].reset_index(drop=True))\n",
    "df_cm = pd.DataFrame(cm, index=list(range(12)), columns=list(range(12)))\n",
    "\n",
    "sn.set(font_scale=1)\n",
    "sn.heatmap(df_cm, annot=True, annot_kws={\"size\": 8}, cmap='coolwarm', linewidth=0.5)\n",
    "plt.show()"
   ]
  }
 ],
 "metadata": {
  "kernelspec": {
   "display_name": "Python 3",
   "language": "python",
   "name": "python3"
  },
  "language_info": {
   "codemirror_mode": {
    "name": "ipython",
    "version": 3
   },
   "file_extension": ".py",
   "mimetype": "text/x-python",
   "name": "python",
   "nbconvert_exporter": "python",
   "pygments_lexer": "ipython3",
   "version": "3.11.7"
  }
 },
 "nbformat": 4,
 "nbformat_minor": 2
}

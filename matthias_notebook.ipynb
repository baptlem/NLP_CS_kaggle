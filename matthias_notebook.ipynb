{
 "cells": [
  {
   "cell_type": "code",
   "execution_count": 1,
   "metadata": {},
   "outputs": [
    {
     "name": "stderr",
     "output_type": "stream",
     "text": [
      "c:\\Users\\matth\\AppData\\Local\\Programs\\Python\\Python311\\Lib\\site-packages\\transformers\\utils\\generic.py:441: UserWarning: torch.utils._pytree._register_pytree_node is deprecated. Please use torch.utils._pytree.register_pytree_node instead.\n",
      "  _torch_pytree._register_pytree_node(\n",
      "[nltk_data] Downloading package punkt to\n",
      "[nltk_data]     C:\\Users\\matth\\AppData\\Roaming\\nltk_data...\n",
      "[nltk_data]   Package punkt is already up-to-date!\n",
      "[nltk_data] Downloading package averaged_perceptron_tagger to\n",
      "[nltk_data]     C:\\Users\\matth\\AppData\\Roaming\\nltk_data...\n",
      "[nltk_data]   Package averaged_perceptron_tagger is already up-to-\n",
      "[nltk_data]       date!\n",
      "[nltk_data] Downloading package maxent_ne_chunker to\n",
      "[nltk_data]     C:\\Users\\matth\\AppData\\Roaming\\nltk_data...\n",
      "[nltk_data]   Package maxent_ne_chunker is already up-to-date!\n",
      "[nltk_data] Downloading package words to\n",
      "[nltk_data]     C:\\Users\\matth\\AppData\\Roaming\\nltk_data...\n",
      "[nltk_data]   Package words is already up-to-date!\n",
      "[nltk_data] Downloading package wordnet to\n",
      "[nltk_data]     C:\\Users\\matth\\AppData\\Roaming\\nltk_data...\n",
      "[nltk_data]   Package wordnet is already up-to-date!\n",
      "[nltk_data] Downloading package stopwords to\n",
      "[nltk_data]     C:\\Users\\matth\\AppData\\Roaming\\nltk_data...\n",
      "[nltk_data]   Package stopwords is already up-to-date!\n"
     ]
    },
    {
     "data": {
      "text/plain": [
       "True"
      ]
     },
     "execution_count": 1,
     "metadata": {},
     "output_type": "execute_result"
    }
   ],
   "source": [
    "\n",
    "from sklearn.feature_extraction.text import TfidfVectorizer\n",
    "from sklearn.metrics import classification_report, confusion_matrix\n",
    "from sklearn.metrics.pairwise import cosine_similarity\n",
    "import matplotlib.pyplot as plt\n",
    "import seaborn as sn\n",
    "import numpy as np\n",
    "import pandas as pd\n",
    "import nltk\n",
    "from nltk.tokenize import word_tokenize\n",
    "from nltk.stem import WordNetLemmatizer\n",
    "from gensim.models.phrases import Phrases, Phraser, ENGLISH_CONNECTOR_WORDS\n",
    "from nltk.corpus import stopwords\n",
    "from sklearn.svm import SVC\n",
    "from sklearn.pipeline import Pipeline\n",
    "from sklearn.preprocessing import FunctionTransformer\n",
    "from sklearn.linear_model import SGDClassifier\n",
    "from sklearn.feature_extraction.text import CountVectorizer\n",
    "from sklearn.feature_extraction.text import TfidfTransformer\n",
    "from sklearn.ensemble import RandomForestClassifier\n",
    "from sklearn.linear_model import LogisticRegression, SGDClassifier,RidgeClassifier\n",
    "from sklearn.naive_bayes import ComplementNB\n",
    "from sklearn.neighbors import KNeighborsClassifier, NearestCentroid\n",
    "from sklearn.svm import LinearSVC\n",
    "from tqdm import tqdm\n",
    "import warnings\n",
    "import csv\n",
    "from xgboost import XGBClassifier\n",
    "from sentence_transformers import SentenceTransformer\n",
    "from sklearn.neighbors import NearestCentroid\n",
    "from termcolor import colored\n",
    "\n",
    "\n",
    "\n",
    "nltk.download('punkt')\n",
    "nltk.download('averaged_perceptron_tagger')\n",
    "nltk.download('maxent_ne_chunker')\n",
    "nltk.download('words')\n",
    "nltk.download('wordnet')\n",
    "nltk.download('stopwords')\n"
   ]
  },
  {
   "cell_type": "code",
   "execution_count": 2,
   "metadata": {},
   "outputs": [],
   "source": [
    "embedding = 'sentence-transformers/all-MiniLM-L6-v2'\n",
    "\n",
    "# 'BAAI/bge-large-en-v1.5'\n",
    "# other embeddings: 'sentence-transformers/all-mpnet-base-v2'\n",
    "# 'sentence-transformers/all-MiniLM-L6-v2'\n",
    "# 'sentence-transformers/all-MiniLM-L12-v2'"
   ]
  },
  {
   "cell_type": "code",
   "execution_count": 3,
   "metadata": {},
   "outputs": [
    {
     "name": "stdout",
     "output_type": "stream",
     "text": [
      "(5283, 2) (200, 2)\n"
     ]
    },
    {
     "data": {
      "text/html": [
       "<div>\n",
       "<style scoped>\n",
       "    .dataframe tbody tr th:only-of-type {\n",
       "        vertical-align: middle;\n",
       "    }\n",
       "\n",
       "    .dataframe tbody tr th {\n",
       "        vertical-align: top;\n",
       "    }\n",
       "\n",
       "    .dataframe thead th {\n",
       "        text-align: right;\n",
       "    }\n",
       "</style>\n",
       "<table border=\"1\" class=\"dataframe\">\n",
       "  <thead>\n",
       "    <tr style=\"text-align: right;\">\n",
       "      <th></th>\n",
       "      <th>labels</th>\n",
       "      <th>sentences</th>\n",
       "    </tr>\n",
       "  </thead>\n",
       "  <tbody>\n",
       "    <tr>\n",
       "      <th>0</th>\n",
       "      <td>8</td>\n",
       "      <td>Telescopes peer back in time, revealing the un...</td>\n",
       "    </tr>\n",
       "    <tr>\n",
       "      <th>1</th>\n",
       "      <td>8</td>\n",
       "      <td>Quantum mechanics challenges our understanding...</td>\n",
       "    </tr>\n",
       "    <tr>\n",
       "      <th>2</th>\n",
       "      <td>8</td>\n",
       "      <td>Studying fossils unlocks the secrets of ancien...</td>\n",
       "    </tr>\n",
       "    <tr>\n",
       "      <th>3</th>\n",
       "      <td>8</td>\n",
       "      <td>Particle accelerators recreate the Big Bang's ...</td>\n",
       "    </tr>\n",
       "    <tr>\n",
       "      <th>4</th>\n",
       "      <td>8</td>\n",
       "      <td>Microbiology reveals invisible worlds teeming ...</td>\n",
       "    </tr>\n",
       "  </tbody>\n",
       "</table>\n",
       "</div>"
      ],
      "text/plain": [
       "   labels                                          sentences\n",
       "0       8  Telescopes peer back in time, revealing the un...\n",
       "1       8  Quantum mechanics challenges our understanding...\n",
       "2       8  Studying fossils unlocks the secrets of ancien...\n",
       "3       8  Particle accelerators recreate the Big Bang's ...\n",
       "4       8  Microbiology reveals invisible worlds teeming ..."
      ]
     },
     "execution_count": 3,
     "metadata": {},
     "output_type": "execute_result"
    }
   ],
   "source": [
    "df_train_plus = pd.read_csv(\"data/dataset_de_mort_and_food_custom.txt\",names=['labels','sentences'],sep='\\t')\n",
    "df_train_plus['sentences'] = df_train_plus['sentences'].astype(\"str\")\n",
    "df_train_plus = df_train_plus[df_train_plus['sentences'].apply(lambda x: len(x.split()) >= 4)]\n",
    "df_train_plus = df_train_plus.drop_duplicates(subset='sentences').reset_index(drop=True)\n",
    "df_test = pd.read_csv(\"data/annotated_test.txt\", sep=';',names=['labels','sentences'])\n",
    "print(df_train_plus.shape,df_test.shape)\n",
    "df_train_plus.head()"
   ]
  },
  {
   "cell_type": "code",
   "execution_count": 26,
   "metadata": {},
   "outputs": [
    {
     "data": {
      "text/plain": [
       "labels\n",
       "6     32\n",
       "7     19\n",
       "1     19\n",
       "2     18\n",
       "9     17\n",
       "4     16\n",
       "5     16\n",
       "11    15\n",
       "10    14\n",
       "8     13\n",
       "0     11\n",
       "3     10\n",
       "Name: count, dtype: int64"
      ]
     },
     "execution_count": 26,
     "metadata": {},
     "output_type": "execute_result"
    }
   ],
   "source": [
    "df_test.labels.value_counts()"
   ]
  },
  {
   "cell_type": "code",
   "execution_count": 4,
   "metadata": {},
   "outputs": [],
   "source": [
    "import torch\n",
    "import torch.nn as nn\n",
    "import torch.nn.functional as F\n",
    "\n",
    "class BiLSTM(nn.Module):\n",
    "\n",
    "    def __init__(self, num_class, args, dimension=300):\n",
    "        super(BiLSTM, self).__init__()\n",
    "        self.args = args\n",
    "        self.dimension = dimension\n",
    "        self.lstm = nn.LSTM(input_size=384,\n",
    "                            hidden_size=dimension//2, \n",
    "                            num_layers=4,\n",
    "                            batch_first=True,\n",
    "                            bidirectional=True)\n",
    "        self.drop = nn.Dropout(p=0.1)\n",
    "        self.hidden2tag = nn.Linear(dimension, num_class)\n",
    "\n",
    "    def forward(self, sentences):\n",
    "        \n",
    "        output, (hidden,cell) = self.lstm(sentences)\n",
    "        # output = self.drop(output)\n",
    "        # last_output = output[:, -1, :]\n",
    "        # print(hidden.shape) #torch.Size([8, 64, 150])\n",
    "        last_output_forward = output[:, -1, :self.dimension//2]\n",
    "        last_output_backward = output[:, 0, self.dimension//2:]\n",
    "        last_output = torch.cat((last_output_forward, last_output_backward), dim=1)\n",
    "        # last_output = torch.cat((hidden[-2,:,:], hidden[-1,:,:]), dim = 1)#torch.Size([64, 300])\n",
    "        # print(last_output.shape)\n",
    "        last_output = self.hidden2tag(last_output)#torch.Size([64, 12])\n",
    "        # print(last_output.shape)\n",
    "        # batch_size = outputs.size(0)\n",
    "        # seq_len = outputs.size(1)\n",
    "        # last_output = output[:, -1, :]\n",
    "        scores = F.log_softmax(last_output, 1)\n",
    "        return scores"
   ]
  },
  {
   "cell_type": "code",
   "execution_count": 5,
   "metadata": {},
   "outputs": [],
   "source": [
    "from torch.utils.data import DataLoader\n",
    "import torchdata.datapipes as dp\n",
    "from torchdata.datapipes.iter import IterableWrapper\n",
    "import torch\n",
    "from torch.nn.utils.rnn import pad_sequence\n",
    "from torch.utils.data import DataLoader\n",
    "import torch.optim as optim\n",
    "import random\n",
    "\n",
    "def shuffle_two_lists(a,b):\n",
    "    combin = list(zip(a,b))\n",
    "    random.shuffle(combin)\n",
    "    first_elements = [t[0] for t in combin]\n",
    "    second_elements = [t[1] for t in combin]\n",
    "    return first_elements, second_elements\n",
    "    \n",
    "def prepare_data(data,model_name):\n",
    "  \n",
    "  model = SentenceTransformer(model_name)\n",
    "  data = list(data)\n",
    "  data = [sentence.split() for sentence in data]\n",
    "  data = [model.encode(sentence) for sentence in data]\n",
    "  return data\n",
    "\n",
    "def group_sentences_by_length_with_labels(sentences, labels):\n",
    "    grouped_data = {}\n",
    "    sentences,labels = shuffle_two_lists(sentences,labels)\n",
    "    for sentence, label in zip(sentences, labels):\n",
    "        length = len(sentence)\n",
    "        if length not in grouped_data:\n",
    "            grouped_data[length] = {'sentences': [], 'labels': []}\n",
    "        grouped_data[length]['sentences'].append(sentence)\n",
    "        grouped_data[length]['labels'].append(label)\n",
    "    return grouped_data\n",
    "\n",
    "def create_batches_with_labels(grouped_data, batch_size):\n",
    "    batches = []\n",
    "    for length, data in grouped_data.items():\n",
    "        sentences = data['sentences']\n",
    "        labels = data['labels']\n",
    "        for i in range(0, len(sentences), batch_size):\n",
    "            batch_sentences = sentences[i:i+batch_size]\n",
    "            batch_labels = labels[i:i+batch_size]\n",
    "            batches.append((batch_sentences, batch_labels))\n",
    "    return batches\n",
    "\n",
    "\n",
    "def train(model,batches,optimizer, ep, args):\n",
    "    model.train()\n",
    "    loss_it = list()\n",
    "    for sentences,labels in tqdm(batches):\n",
    "        sentences = torch.tensor(sentences)\n",
    "        labels = torch.tensor(labels)\n",
    "        optimizer.zero_grad()\n",
    "        model.zero_grad()\n",
    "        logits = model(sentences)\n",
    "        \n",
    "        if 'class_weights' in args:\n",
    "            loss_fn = nn.NLLLoss(weight=args['class_weights'])  \n",
    "        else: \n",
    "            loss_fn = nn.NLLLoss()\n",
    "        \n",
    "        # print(logits,labels)    \n",
    "        loss = loss_fn(logits,labels)#.view(args[\"b_size\"])\n",
    "\n",
    "        loss.backward()\n",
    "        optimizer.step()\n",
    "        loss_it.append(loss.item())\n",
    "  \n",
    "    print(\"Epoch %s/%s : %s : (%s %s)\" % (colored(str(ep), 'blue'),args['max_eps'] , colored('Training', 'blue'), colored('loss', 'cyan'), sum(loss_it)/len(loss_it)))\n"
   ]
  },
  {
   "cell_type": "code",
   "execution_count": 6,
   "metadata": {},
   "outputs": [],
   "source": [
    "def inference(model,target,data):\n",
    "\n",
    "  model.eval()\n",
    "  liste_pred = []\n",
    "  with torch.no_grad():\n",
    "    for sentence in data:\n",
    "      sentence = torch.tensor([sentence])\n",
    "      # print(sentence)\n",
    "      logits = model(sentence)\n",
    "      results = torch.argmax(logits,dim=1)\n",
    "      liste_pred.append(results.item())\n",
    "    acc = (liste_pred == target).sum()/len(target)\n",
    "    return liste_pred,acc\n",
    "  \n",
    "def run_epochs(model,sentences,labels,args):\n",
    "  optimizer = optim.Adam(model.parameters(), lr = args['lr'],weight_decay=0.0001)\n",
    "  \n",
    "  for ep in range(args['max_eps']):\n",
    "    grouped_sentences = group_sentences_by_length_with_labels(sentences,labels)\n",
    "    batches = create_batches_with_labels(grouped_sentences, args['bsize'])\n",
    "    print(batches)\n",
    "    print(batches[0].shape)\n",
    "    train(model,batches, optimizer, ep, args)"
   ]
  },
  {
   "cell_type": "code",
   "execution_count": 8,
   "metadata": {},
   "outputs": [
    {
     "name": "stderr",
     "output_type": "stream",
     "text": [
      "100%|██████████| 119/119 [11:53<00:00,  5.99s/it]\n"
     ]
    },
    {
     "name": "stdout",
     "output_type": "stream",
     "text": [
      "Epoch \u001b[34m0\u001b[0m/50 : \u001b[34mTraining\u001b[0m : (\u001b[36mloss\u001b[0m 2.456820712370031)\n"
     ]
    },
    {
     "name": "stderr",
     "output_type": "stream",
     "text": [
      "100%|██████████| 119/119 [06:19<00:00,  3.19s/it]\n"
     ]
    },
    {
     "name": "stdout",
     "output_type": "stream",
     "text": [
      "Epoch \u001b[34m1\u001b[0m/50 : \u001b[34mTraining\u001b[0m : (\u001b[36mloss\u001b[0m 2.3939943083194124)\n"
     ]
    },
    {
     "name": "stderr",
     "output_type": "stream",
     "text": [
      "100%|██████████| 119/119 [05:16<00:00,  2.66s/it]\n"
     ]
    },
    {
     "name": "stdout",
     "output_type": "stream",
     "text": [
      "Epoch \u001b[34m2\u001b[0m/50 : \u001b[34mTraining\u001b[0m : (\u001b[36mloss\u001b[0m 2.06515030299916)\n"
     ]
    },
    {
     "name": "stderr",
     "output_type": "stream",
     "text": [
      "100%|██████████| 119/119 [03:28<00:00,  1.75s/it]\n"
     ]
    },
    {
     "name": "stdout",
     "output_type": "stream",
     "text": [
      "Epoch \u001b[34m3\u001b[0m/50 : \u001b[34mTraining\u001b[0m : (\u001b[36mloss\u001b[0m 1.9915777278297089)\n"
     ]
    },
    {
     "name": "stderr",
     "output_type": "stream",
     "text": [
      "100%|██████████| 119/119 [03:17<00:00,  1.66s/it]\n"
     ]
    },
    {
     "name": "stdout",
     "output_type": "stream",
     "text": [
      "Epoch \u001b[34m4\u001b[0m/50 : \u001b[34mTraining\u001b[0m : (\u001b[36mloss\u001b[0m 1.929308160575999)\n"
     ]
    },
    {
     "name": "stderr",
     "output_type": "stream",
     "text": [
      "100%|██████████| 119/119 [03:00<00:00,  1.52s/it]\n"
     ]
    },
    {
     "name": "stdout",
     "output_type": "stream",
     "text": [
      "Epoch \u001b[34m5\u001b[0m/50 : \u001b[34mTraining\u001b[0m : (\u001b[36mloss\u001b[0m 1.900914140609132)\n"
     ]
    },
    {
     "name": "stderr",
     "output_type": "stream",
     "text": [
      "100%|██████████| 119/119 [17:35<00:00,  8.87s/it] \n"
     ]
    },
    {
     "name": "stdout",
     "output_type": "stream",
     "text": [
      "Epoch \u001b[34m6\u001b[0m/50 : \u001b[34mTraining\u001b[0m : (\u001b[36mloss\u001b[0m 1.78210346200386)\n"
     ]
    },
    {
     "name": "stderr",
     "output_type": "stream",
     "text": [
      " 29%|██▉       | 35/119 [01:54<03:42,  2.65s/it]"
     ]
    }
   ],
   "source": [
    "#50 epochs\n",
    "\n",
    "args = {'bsize': 128}\n",
    "args.update({'max_eps': 50, 'lr': 0.0005, 'device': 'cpu', 'num_class': 12})\n",
    "# nb_data = 1000\n",
    "sentences = prepare_data(df_train_plus.loc[:,'sentences'],embedding)\n",
    "model = BiLSTM( args['num_class'], args, dimension=1024)\n",
    "loss_list_val = run_epochs(model,sentences,list(df_train_plus.loc[:,'labels']), args)\n",
    "   "
   ]
  },
  {
   "cell_type": "code",
   "execution_count": 4,
   "metadata": {},
   "outputs": [
    {
     "ename": "NameError",
     "evalue": "name 'prepare_data' is not defined",
     "output_type": "error",
     "traceback": [
      "\u001b[1;31m---------------------------------------------------------------------------\u001b[0m",
      "\u001b[1;31mNameError\u001b[0m                                 Traceback (most recent call last)",
      "Cell \u001b[1;32mIn[4], line 1\u001b[0m\n\u001b[1;32m----> 1\u001b[0m sentences \u001b[38;5;241m=\u001b[39m \u001b[43mprepare_data\u001b[49m(df_test\u001b[38;5;241m.\u001b[39mloc[:,\u001b[38;5;124m'\u001b[39m\u001b[38;5;124msentences\u001b[39m\u001b[38;5;124m'\u001b[39m],embedding)\n\u001b[0;32m      2\u001b[0m pred,score \u001b[38;5;241m=\u001b[39m inference(model,df_test\u001b[38;5;241m.\u001b[39mloc[:,\u001b[38;5;124m'\u001b[39m\u001b[38;5;124mlabels\u001b[39m\u001b[38;5;124m'\u001b[39m],sentences)\n",
      "\u001b[1;31mNameError\u001b[0m: name 'prepare_data' is not defined"
     ]
    }
   ],
   "source": [
    "sentences = prepare_data(df_test.loc[:,'sentences'],embedding)\n",
    "pred,score = inference(model,df_test.loc[:,'labels'],sentences)"
   ]
  },
  {
   "cell_type": "code",
   "execution_count": 51,
   "metadata": {},
   "outputs": [
    {
     "name": "stderr",
     "output_type": "stream",
     "text": [
      "c:\\Users\\matth\\AppData\\Local\\Programs\\Python\\Python311\\Lib\\site-packages\\sklearn\\metrics\\_classification.py:1471: UndefinedMetricWarning: Precision and F-score are ill-defined and being set to 0.0 in labels with no predicted samples. Use `zero_division` parameter to control this behavior.\n",
      "  _warn_prf(average, modifier, msg_start, len(result))\n",
      "c:\\Users\\matth\\AppData\\Local\\Programs\\Python\\Python311\\Lib\\site-packages\\sklearn\\metrics\\_classification.py:1471: UndefinedMetricWarning: Precision and F-score are ill-defined and being set to 0.0 in labels with no predicted samples. Use `zero_division` parameter to control this behavior.\n",
      "  _warn_prf(average, modifier, msg_start, len(result))\n",
      "c:\\Users\\matth\\AppData\\Local\\Programs\\Python\\Python311\\Lib\\site-packages\\sklearn\\metrics\\_classification.py:1471: UndefinedMetricWarning: Precision and F-score are ill-defined and being set to 0.0 in labels with no predicted samples. Use `zero_division` parameter to control this behavior.\n",
      "  _warn_prf(average, modifier, msg_start, len(result))\n"
     ]
    },
    {
     "name": "stdout",
     "output_type": "stream",
     "text": [
      "              precision    recall  f1-score   support\n",
      "\n",
      "           0       0.75      0.82      0.78        11\n",
      "           1       0.42      0.84      0.56        19\n",
      "           2       0.81      0.72      0.76        18\n",
      "           3       0.50      0.20      0.29        10\n",
      "           4       0.00      0.00      0.00        16\n",
      "           5       0.38      0.94      0.54        16\n",
      "           6       1.00      0.12      0.22        32\n",
      "           7       1.00      0.16      0.27        19\n",
      "           8       0.33      0.77      0.47        13\n",
      "           9       0.91      0.59      0.71        17\n",
      "          10       0.40      0.71      0.51        14\n",
      "          11       0.65      0.73      0.69        15\n",
      "\n",
      "    accuracy                           0.52       200\n",
      "   macro avg       0.60      0.55      0.48       200\n",
      "weighted avg       0.64      0.52      0.46       200\n",
      "\n"
     ]
    },
    {
     "data": {
      "text/plain": [
       "<Axes: >"
      ]
     },
     "execution_count": 51,
     "metadata": {},
     "output_type": "execute_result"
    },
    {
     "data": {
      "image/png": "[encoded data removed]",
      "text/plain": [
       "<Figure size 640x480 with 2 Axes>"
      ]
     },
     "metadata": {},
     "output_type": "display_data"
    }
   ],
   "source": [
    "report = classification_report(df_test.loc[:, \"labels\"], pd.Series(pred))\n",
    "print(report)\n",
    "cm = confusion_matrix(df_test.loc[:, \"labels\"], pd.Series(pred))\n",
    "df_cm = pd.DataFrame(cm, index=list(range(12)), columns=list(range(12)))\n",
    "sn.set(font_scale=1)\n",
    "sn.heatmap(df_cm, annot=True, annot_kws={\"size\": 8}, cmap='coolwarm', linewidth=0.5)"
   ]
  },
  {
   "cell_type": "code",
   "execution_count": 16,
   "metadata": {},
   "outputs": [],
   "source": [
    "vectors = np.array([[1, 2, 3, 4, 5, 6, 7, 8, 9, 10],[1, 2, 3, 4, 5, 6, 7, 8, 9, 10]])\n",
    "threshold = np.array([1,4,5,6,8,1,3,0,4,6])\n",
    "row_indices= np.where(vectors > threshold)"
   ]
  },
  {
   "cell_type": "code",
   "execution_count": 17,
   "metadata": {},
   "outputs": [
    {
     "data": {
      "text/plain": [
       "(array([0, 0, 0, 0, 0, 1, 1, 1, 1, 1], dtype=int64),\n",
       " array([5, 6, 7, 8, 9, 5, 6, 7, 8, 9], dtype=int64))"
      ]
     },
     "execution_count": 17,
     "metadata": {},
     "output_type": "execute_result"
    }
   ],
   "source": [
    "row_indices"
   ]
  },
  {
   "cell_type": "code",
   "execution_count": null,
   "metadata": {},
   "outputs": [],
   "source": [
    "# weights =  {6:95/149,1:95/119,5:95/111,0:95/118,7: 95/97,9: 95/97,10:95/90,2: 95/86,11:95/85,3: 95/72,8: 95/57,4: 95/59}\n",
    "# finetuned_llm('sentence-transformers/all-MiniLM-L6-v2',model_name_classifier,df_train_plus,df_test)"
   ]
  },
  {
   "cell_type": "code",
   "execution_count": 18,
   "metadata": {},
   "outputs": [
    {
     "name": "stdout",
     "output_type": "stream",
     "text": [
      "              precision    recall  f1-score   support\n",
      "\n",
      "           0       0.85      1.00      0.92        11\n",
      "           1       0.70      0.74      0.72        19\n",
      "           2       0.94      0.83      0.88        18\n",
      "           3       0.80      0.80      0.80        10\n",
      "           4       0.77      0.62      0.69        16\n",
      "           5       0.94      1.00      0.97        16\n",
      "           6       0.90      0.88      0.89        32\n",
      "           7       0.90      1.00      0.95        19\n",
      "           8       0.64      0.69      0.67        13\n",
      "           9       0.84      0.94      0.89        17\n",
      "          10       0.93      0.93      0.93        14\n",
      "          11       0.92      0.73      0.81        15\n",
      "\n",
      "    accuracy                           0.85       200\n",
      "   macro avg       0.84      0.85      0.84       200\n",
      "weighted avg       0.85      0.85      0.85       200\n",
      "\n"
     ]
    },
    {
     "data": {
      "image/png": "[encoded data removed]",
      "text/plain": [
       "<Figure size 640x480 with 2 Axes>"
      ]
     },
     "metadata": {},
     "output_type": "display_data"
    }
   ],
   "source": [
    "from clean_code.utilities import  load_prediction,evaluation\n",
    "\n",
    "pred = load_prediction(\"lol2\")\n",
    "# pred = pd.read_csv(\"results/test.csv\")\n",
    "evaluation([pred],df_test)\n"
   ]
  },
  {
   "cell_type": "code",
   "execution_count": 25,
   "metadata": {},
   "outputs": [
    {
     "name": "stdout",
     "output_type": "stream",
     "text": [
      "[10\n",
      " 'The benefits of biomimicry are many, including potential for developing sustainable technologies and improving efficiency.'\n",
      " 6]\n",
      "[2\n",
      " 'The impact of demographic changes on the economy is a topic of concern.'\n",
      " 0]\n",
      "[4\n",
      " 'The importance of portion control in maintaining a healthy weight cannot be overemphasized.'\n",
      " 1]\n",
      "[4 'The impact of food deserts on community health is a topic of concern.'\n",
      " 1]\n",
      "[11\n",
      " 'The best way to find the best local attractions is to do your research ahead of time.'\n",
      " 3]\n",
      "[3 'The best way to find the best local nightlife is to ask the locals.'\n",
      " 11]\n",
      "[11\n",
      " 'The film producer secured funding for their next project through crowdfunding.'\n",
      " 2]\n",
      "[6\n",
      " 'The impact of the gig economy on sustainable travel is a topic of ongoing debate.'\n",
      " 3]\n",
      "[11\n",
      " 'The reality competition show pits contestants against each other in a series of challenges.'\n",
      " 9]\n",
      "[3\n",
      " 'The best way to find the best local food tours is to do your research ahead of time.'\n",
      " 4]\n",
      "[1\n",
      " 'The impact of climate change on human health is a topic of ongoing scientific research.'\n",
      " 8]\n",
      "[8\n",
      " 'The sports scientist studies the physiological effects of exercise on the body.'\n",
      " 9]\n",
      "[1\n",
      " 'The impact of air pollution on human health is a topic of ongoing scientific research.'\n",
      " 8]\n",
      "[1\n",
      " 'The biotech startup is developing groundbreaking therapies for cancer treatment.'\n",
      " 8]\n",
      "[8\n",
      " 'The sports science research center collaborates with universities on cutting-edge studies.'\n",
      " 9]\n",
      "[8\n",
      " 'The impact of biodiversity loss on ecosystems is a topic of ongoing scientific research.'\n",
      " 6]\n",
      "[11\n",
      " 'The drone pilot operates the aircraft to capture aerial footage for film and television.'\n",
      " 10]\n",
      "[8\n",
      " 'The impact of acid rain on ecosystems is a topic of ongoing scientific research.'\n",
      " 6]\n",
      "[4\n",
      " 'The benefits of eating a flexitarian diet are many, including improved health and reduced environmental impact.'\n",
      " 1]\n",
      "[1\n",
      " 'The impact of antibiotic resistance on public health is a topic of ongoing scientific research.'\n",
      " 8]\n",
      "[4 'The importance of staying hydrated cannot be overemphasized.' 1]\n",
      "[6\n",
      " 'The benefits of thrift shopping are many, including reduced waste and improved affordability.'\n",
      " 7]\n",
      "[6\n",
      " 'The benefits of eating locally sourced food are many, including freshness and sustainability.'\n",
      " 4]\n",
      "[9 'The surfer rode a massive wave at the world-famous surf spot.' 8]\n",
      "[6\n",
      " 'The benefits of using eco-friendly dyes in fashion are many, including reduced water pollution and improved sustainability.'\n",
      " 7]\n",
      "[2\n",
      " 'The importance of financial literacy in education cannot be overemphasized.'\n",
      " 5]\n",
      "[4\n",
      " 'The benefits of eating a vegan diet are many, including ethical and environmental considerations.'\n",
      " 1]\n",
      "[1\n",
      " 'The impact of food additives on metabolism is a topic of ongoing debate.'\n",
      " 4]\n",
      "[2 'The price of oil has been on the rise due to geopolitical tensions.' 0]\n",
      "[4\n",
      " 'The benefits of eating a low-glycemic diet are many, including improved blood sugar control and reduced inflammation.'\n",
      " 1]\n"
     ]
    }
   ],
   "source": [
    "# np.mean(df_test[\"labels\"]==pred)\n",
    "df_test[\"pred\"] = pred\n",
    "for elem in np.array(df_test[(df_test[\"labels\"] !=df_test[\"pred\"])]):\n",
    "    print(elem)\n",
    "\n"
   ]
  },
  {
   "cell_type": "code",
   "execution_count": null,
   "metadata": {},
   "outputs": [],
   "source": [
    "#rajouter des phrases avec healthy dedans et dire que c'est food (4 1)\n",
    "#ongoing scientific research --> forcement scientifique?"
   ]
  },
  {
   "cell_type": "code",
   "execution_count": 27,
   "metadata": {},
   "outputs": [
    {
     "data": {
      "text/plain": [
       "labels\n",
       "6     32\n",
       "7     19\n",
       "1     19\n",
       "2     18\n",
       "9     17\n",
       "4     16\n",
       "5     16\n",
       "11    15\n",
       "10    14\n",
       "8     13\n",
       "0     11\n",
       "3     10\n",
       "Name: count, dtype: int64"
      ]
     },
     "execution_count": 27,
     "metadata": {},
     "output_type": "execute_result"
    }
   ],
   "source": [
    "df_test.labels.value_counts()"
   ]
  }
 ],
 "metadata": {
  "kernelspec": {
   "display_name": "Python 3",
   "language": "python",
   "name": "python3"
  },
  "language_info": {
   "codemirror_mode": {
    "name": "ipython",
    "version": 3
   },
   "file_extension": ".py",
   "mimetype": "text/x-python",
   "name": "python",
   "nbconvert_exporter": "python",
   "pygments_lexer": "ipython3",
   "version": "3.11.7"
  }
 },
 "nbformat": 4,
 "nbformat_minor": 2
}

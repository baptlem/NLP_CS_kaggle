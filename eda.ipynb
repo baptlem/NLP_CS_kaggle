{
 "cells": [
  {
   "cell_type": "markdown",
   "metadata": {},
   "source": [
    "## Data augmentation using Easy Data Augmentation (EDA)\n",
    "### see https://github.com/jasonwei20/eda_nlp, https://arxiv.org/abs/1901.11196"
   ]
  },
  {
   "cell_type": "markdown",
   "metadata": {},
   "source": [
    "### Prepare text file for EDA method"
   ]
  },
  {
   "cell_type": "code",
   "execution_count": 2,
   "metadata": {},
   "outputs": [],
   "source": [
    "import sys\n",
    "import pandas as pd"
   ]
  },
  {
   "cell_type": "code",
   "execution_count": 7,
   "metadata": {},
   "outputs": [
    {
     "data": {
      "text/html": [
       "<div>\n",
       "<style scoped>\n",
       "    .dataframe tbody tr th:only-of-type {\n",
       "        vertical-align: middle;\n",
       "    }\n",
       "\n",
       "    .dataframe tbody tr th {\n",
       "        vertical-align: top;\n",
       "    }\n",
       "\n",
       "    .dataframe thead th {\n",
       "        text-align: right;\n",
       "    }\n",
       "</style>\n",
       "<table border=\"1\" class=\"dataframe\">\n",
       "  <thead>\n",
       "    <tr style=\"text-align: right;\">\n",
       "      <th></th>\n",
       "      <th>Politics</th>\n",
       "      <th>Health</th>\n",
       "      <th>Finance</th>\n",
       "      <th>Travel</th>\n",
       "      <th>Food</th>\n",
       "      <th>Education</th>\n",
       "      <th>Environment</th>\n",
       "      <th>Fashion</th>\n",
       "      <th>Science</th>\n",
       "      <th>Sports</th>\n",
       "      <th>Technology</th>\n",
       "      <th>Entertainment</th>\n",
       "    </tr>\n",
       "  </thead>\n",
       "  <tbody>\n",
       "    <tr>\n",
       "      <th>0</th>\n",
       "      <td>The mayor announced a new initiative to improv...</td>\n",
       "      <td>Regular exercise and a balanced diet are key t...</td>\n",
       "      <td>The stock market saw a significant drop follow...</td>\n",
       "      <td>Visiting the Grand Canyon is a breathtaking ex...</td>\n",
       "      <td>The new restaurant in town offers a fusion of ...</td>\n",
       "      <td>The school district is implementing a new curr...</td>\n",
       "      <td>Climate change is causing a significant rise i...</td>\n",
       "      <td>The new fashion trend is all about sustainabil...</td>\n",
       "      <td>NASA's Mars Rover has made significant discove...</td>\n",
       "      <td>The NBA Finals are set to begin next week with...</td>\n",
       "      <td>Artificial intelligence is changing the way we...</td>\n",
       "      <td>The new Marvel movie is breaking box office re...</td>\n",
       "    </tr>\n",
       "    <tr>\n",
       "      <th>1</th>\n",
       "      <td>The senator is facing criticism for her stance...</td>\n",
       "      <td>The World Health Organization has issued new g...</td>\n",
       "      <td>Investing in real estate can be a profitable v...</td>\n",
       "      <td>The tourism industry has been severely impacte...</td>\n",
       "      <td>Drinking eight glasses of water a day is essen...</td>\n",
       "      <td>Online learning has become increasingly popula...</td>\n",
       "      <td>Recycling and composting are effective ways to...</td>\n",
       "      <td>The annual Met Gala is a major event in the fa...</td>\n",
       "      <td>The Nobel Prize in Physics was awarded for bre...</td>\n",
       "      <td>Serena Williams continues to dominate the tenn...</td>\n",
       "      <td>The latest iPhone has a number of exciting new...</td>\n",
       "      <td>The Grammy Awards are a celebration of the bes...</td>\n",
       "    </tr>\n",
       "    <tr>\n",
       "      <th>2</th>\n",
       "      <td>The upcoming election has sparked intense deba...</td>\n",
       "      <td>A new study reveals the benefits of meditation...</td>\n",
       "      <td>The company's profits have doubled since the l...</td>\n",
       "      <td>Backpacking through Europe is a popular choice...</td>\n",
       "      <td>Cooking classes are a fun way to learn new rec...</td>\n",
       "      <td>The university is offering scholarships for st...</td>\n",
       "      <td>The Amazon rainforest is home to millions of u...</td>\n",
       "      <td>Vintage clothing has made a comeback in recent...</td>\n",
       "      <td>Genetic engineering is opening up new possibil...</td>\n",
       "      <td>The World Cup is the most prestigious tourname...</td>\n",
       "      <td>Cybersecurity is becoming increasingly importa...</td>\n",
       "      <td>The latest season of Game of Thrones had fans ...</td>\n",
       "    </tr>\n",
       "  </tbody>\n",
       "</table>\n",
       "</div>"
      ],
      "text/plain": [
       "                                            Politics  \\\n",
       "0  The mayor announced a new initiative to improv...   \n",
       "1  The senator is facing criticism for her stance...   \n",
       "2  The upcoming election has sparked intense deba...   \n",
       "\n",
       "                                              Health  \\\n",
       "0  Regular exercise and a balanced diet are key t...   \n",
       "1  The World Health Organization has issued new g...   \n",
       "2  A new study reveals the benefits of meditation...   \n",
       "\n",
       "                                             Finance  \\\n",
       "0  The stock market saw a significant drop follow...   \n",
       "1  Investing in real estate can be a profitable v...   \n",
       "2  The company's profits have doubled since the l...   \n",
       "\n",
       "                                              Travel  \\\n",
       "0  Visiting the Grand Canyon is a breathtaking ex...   \n",
       "1  The tourism industry has been severely impacte...   \n",
       "2  Backpacking through Europe is a popular choice...   \n",
       "\n",
       "                                                Food  \\\n",
       "0  The new restaurant in town offers a fusion of ...   \n",
       "1  Drinking eight glasses of water a day is essen...   \n",
       "2  Cooking classes are a fun way to learn new rec...   \n",
       "\n",
       "                                           Education  \\\n",
       "0  The school district is implementing a new curr...   \n",
       "1  Online learning has become increasingly popula...   \n",
       "2  The university is offering scholarships for st...   \n",
       "\n",
       "                                         Environment  \\\n",
       "0  Climate change is causing a significant rise i...   \n",
       "1  Recycling and composting are effective ways to...   \n",
       "2  The Amazon rainforest is home to millions of u...   \n",
       "\n",
       "                                             Fashion  \\\n",
       "0  The new fashion trend is all about sustainabil...   \n",
       "1  The annual Met Gala is a major event in the fa...   \n",
       "2  Vintage clothing has made a comeback in recent...   \n",
       "\n",
       "                                             Science  \\\n",
       "0  NASA's Mars Rover has made significant discove...   \n",
       "1  The Nobel Prize in Physics was awarded for bre...   \n",
       "2  Genetic engineering is opening up new possibil...   \n",
       "\n",
       "                                              Sports  \\\n",
       "0  The NBA Finals are set to begin next week with...   \n",
       "1  Serena Williams continues to dominate the tenn...   \n",
       "2  The World Cup is the most prestigious tourname...   \n",
       "\n",
       "                                          Technology  \\\n",
       "0  Artificial intelligence is changing the way we...   \n",
       "1  The latest iPhone has a number of exciting new...   \n",
       "2  Cybersecurity is becoming increasingly importa...   \n",
       "\n",
       "                                       Entertainment  \n",
       "0  The new Marvel movie is breaking box office re...  \n",
       "1  The Grammy Awards are a celebration of the bes...  \n",
       "2  The latest season of Game of Thrones had fans ...  "
      ]
     },
     "execution_count": 7,
     "metadata": {},
     "output_type": "execute_result"
    }
   ],
   "source": [
    "df_train = pd.read_json(\"data/train.json\")\n",
    "df_train.head()"
   ]
  },
  {
   "cell_type": "code",
   "execution_count": 8,
   "metadata": {},
   "outputs": [
    {
     "name": "stdout",
     "output_type": "stream",
     "text": [
      "{'Politics': 0, 'Health': 1, 'Finance': 2, 'Travel': 3, 'Food': 4, 'Education': 5, 'Environment': 6, 'Fashion': 7, 'Science': 8, 'Sports': 9, 'Technology': 10, 'Entertainment': 11}\n"
     ]
    }
   ],
   "source": [
    "corresp_labels = {col:i for i,col in enumerate(df_train.columns)}\n",
    "print(corresp_labels)"
   ]
  },
  {
   "cell_type": "code",
   "execution_count": 9,
   "metadata": {},
   "outputs": [
    {
     "data": {
      "text/html": [
       "<div>\n",
       "<style scoped>\n",
       "    .dataframe tbody tr th:only-of-type {\n",
       "        vertical-align: middle;\n",
       "    }\n",
       "\n",
       "    .dataframe tbody tr th {\n",
       "        vertical-align: top;\n",
       "    }\n",
       "\n",
       "    .dataframe thead th {\n",
       "        text-align: right;\n",
       "    }\n",
       "</style>\n",
       "<table border=\"1\" class=\"dataframe\">\n",
       "  <thead>\n",
       "    <tr style=\"text-align: right;\">\n",
       "      <th></th>\n",
       "      <th>Labels</th>\n",
       "      <th>Sentences</th>\n",
       "    </tr>\n",
       "  </thead>\n",
       "  <tbody>\n",
       "    <tr>\n",
       "      <th>0</th>\n",
       "      <td>0</td>\n",
       "      <td>The mayor announced a new initiative to improv...</td>\n",
       "    </tr>\n",
       "    <tr>\n",
       "      <th>1</th>\n",
       "      <td>0</td>\n",
       "      <td>The senator is facing criticism for her stance...</td>\n",
       "    </tr>\n",
       "    <tr>\n",
       "      <th>2</th>\n",
       "      <td>0</td>\n",
       "      <td>The upcoming election has sparked intense deba...</td>\n",
       "    </tr>\n",
       "    <tr>\n",
       "      <th>3</th>\n",
       "      <td>1</td>\n",
       "      <td>Regular exercise and a balanced diet are key t...</td>\n",
       "    </tr>\n",
       "    <tr>\n",
       "      <th>4</th>\n",
       "      <td>1</td>\n",
       "      <td>The World Health Organization has issued new g...</td>\n",
       "    </tr>\n",
       "  </tbody>\n",
       "</table>\n",
       "</div>"
      ],
      "text/plain": [
       "   Labels                                          Sentences\n",
       "0       0  The mayor announced a new initiative to improv...\n",
       "1       0  The senator is facing criticism for her stance...\n",
       "2       0  The upcoming election has sparked intense deba...\n",
       "3       1  Regular exercise and a balanced diet are key t...\n",
       "4       1  The World Health Organization has issued new g..."
      ]
     },
     "execution_count": 9,
     "metadata": {},
     "output_type": "execute_result"
    }
   ],
   "source": [
    "df_train_modif = df_train.melt(var_name='Labels', value_name='Sentences')\n",
    "df_train_modif = df_train_modif.replace({\"Labels\": corresp_labels})\n",
    "df_train_modif.head()"
   ]
  },
  {
   "cell_type": "code",
   "execution_count": 10,
   "metadata": {},
   "outputs": [],
   "source": [
    "with open(\"data/train_set.txt\", \"w\") as f:\n",
    "    for label, sentence in zip(df_train_modif[\"Labels\"], df_train_modif[\"Sentences\"]):\n",
    "        f.write(f\"{label}\\t{sentence}\\n\")"
   ]
  },
  {
   "cell_type": "markdown",
   "metadata": {},
   "source": [
    "### Using EDA method\n",
    "### !git clone https://github.com/jasonwei20/eda_nlp.git"
   ]
  },
  {
   "cell_type": "code",
   "execution_count": 11,
   "metadata": {},
   "outputs": [
    {
     "name": "stderr",
     "output_type": "stream",
     "text": [
      "[nltk_data] Downloading package wordnet to\n",
      "[nltk_data]     C:\\Users\\asus\\AppData\\Roaming\\nltk_data...\n",
      "[nltk_data]   Package wordnet is already up-to-date!\n"
     ]
    },
    {
     "data": {
      "text/plain": [
       "True"
      ]
     },
     "execution_count": 11,
     "metadata": {},
     "output_type": "execute_result"
    }
   ],
   "source": [
    "import nltk\n",
    "nltk.download('wordnet')"
   ]
  },
  {
   "cell_type": "code",
   "execution_count": 15,
   "metadata": {},
   "outputs": [
    {
     "name": "stdout",
     "output_type": "stream",
     "text": [
      "generated augmented sentences with eda for data/train_set.txt to data/eda_train_set.txt with num_aug=16\n"
     ]
    }
   ],
   "source": [
    "!python C:/Users/asus/Documents/A5_CS/NLP/kaggle/eda_nlp/code/augment.py --input=data/train_set.txt --output=data/eda_train_set.txt --num_aug=16"
   ]
  }
 ],
 "metadata": {
  "kernelspec": {
   "display_name": "diffusers_env",
   "language": "python",
   "name": "python3"
  },
  "language_info": {
   "codemirror_mode": {
    "name": "ipython",
    "version": 3
   },
   "file_extension": ".py",
   "mimetype": "text/x-python",
   "name": "python",
   "nbconvert_exporter": "python",
   "pygments_lexer": "ipython3",
   "version": "3.8.18"
  }
 },
 "nbformat": 4,
 "nbformat_minor": 2
}
